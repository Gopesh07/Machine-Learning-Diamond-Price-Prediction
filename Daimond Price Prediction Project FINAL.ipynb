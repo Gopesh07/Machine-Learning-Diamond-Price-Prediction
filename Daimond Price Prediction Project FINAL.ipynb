{
 "cells": [
  {
   "cell_type": "markdown",
   "id": "3cc02875",
   "metadata": {},
   "source": [
    "# Problem Statement"
   ]
  },
  {
   "cell_type": "markdown",
   "id": "a03a0920",
   "metadata": {},
   "source": [
    "## Business Scenario\n",
    "\n",
    "A diamond merchant has come to you for help.\n",
    "\n",
    "They want to create an automated system to predict the apt price of a diamond based on its shape/size/color etc.\n",
    "\n",
    "They have shared the shape/size/color data of 53940 diamonds.\n",
    "\n",
    "Your task is to create a machine learning model which can predict the price of a diamond based on its characteristics."
   ]
  },
  {
   "cell_type": "markdown",
   "id": "129632fc",
   "metadata": {},
   "source": [
    "### About Dataset"
   ]
  },
  {
   "cell_type": "markdown",
   "id": "cf987a25",
   "metadata": {},
   "source": [
    "* **carat:** Weight(0.2 to 5.01) of the diamond\n",
    "* **cut:** Quality of the cut (Fair, Good, Very Good, Premium, Ideal)\n",
    "* **color:** Diamond colour from J(worst) to D(best)\n",
    "* **clarity:** Measurement of how clear the diamond is (I1 (worst), SI2, SI1, VS2, VS1, VVS2, VVS1, IF (best))\n",
    "* **x:** Length(0 to 10.74) in mm \n",
    "* **y:** Width(0 to 58.9) in mm \n",
    "* **z:** Depth(0 to 31.8) in mm \n",
    "* **depth %:** The height of a diamond, measured from the culet to the table, divided by its average girdle diameter. Total depth percentage(43 to 79) = z/mean(x,y) = 2\\*z/(x+y)\n",
    "* **table:** Width(43 to 95) of the top of diamond relative to widest point \n",
    "* **price:** Price in US dollar"
   ]
  },
  {
   "cell_type": "markdown",
   "id": "2a302b6f",
   "metadata": {},
   "source": [
    "### Defining the problem statement:\n",
    "Create a ML model which can predict the price of a diamond\n",
    "Target Variable: price\n",
    "Predictors: color, cut, carat ,clarity,x ,y ,z ,depth and table."
   ]
  },
  {
   "cell_type": "markdown",
   "id": "cfd729ff",
   "metadata": {},
   "source": [
    "### Determining the type of Machine Learning\n",
    "Based on the problem statement we can understand that we need to create a supervised ML Regression model, as the target variable is Continuous."
   ]
  },
  {
   "cell_type": "markdown",
   "id": "d2711d36",
   "metadata": {},
   "source": [
    "# Importing Libraries"
   ]
  },
  {
   "cell_type": "code",
   "execution_count": null,
   "id": "e2195030",
   "metadata": {},
   "outputs": [],
   "source": [
    "import numpy as np\n",
    "import pandas as pd\n",
    "import matplotlib.pyplot as plt\n",
    "import seaborn as sns\n",
    "from sklearn.preprocessing import OneHotEncoder,StandardScaler,MinMaxScaler\n",
    "from sklearn.model_selection import train_test_split\n",
    "from sklearn.linear_model import LinearRegression\n",
    "from sklearn.metrics import r2_score\n",
    "from sklearn.neighbors import KNeighborsRegressor\n",
    "from sklearn.tree import DecisionTreeRegressor\n",
    "from sklearn.ensemble import RandomForestRegressor\n",
    "from sklearn.metrics import mean_squared_error\n",
    "from sklearn.metrics import SCORERS\n",
    "from sklearn.ensemble import RandomForestRegressor\n",
    "from sklearn.model_selection import GridSearchCV\n",
    "from sklearn.metrics import r2_score, mean_absolute_percentage_error\n",
    "\n",
    "from sklearn.model_selection import GridSearchCV\n",
    "from sklearn.model_selection import cross_val_score\n",
    "from statsmodels.stats.outliers_influence import variance_inflation_factor\n",
    "import statsmodels.api as sm\n",
    "import warnings\n",
    "warnings.filterwarnings(\"ignore\")\n"
   ]
  },
  {
   "cell_type": "markdown",
   "id": "134baa37",
   "metadata": {},
   "source": [
    "# Reading a Data Set"
   ]
  },
  {
   "cell_type": "code",
   "execution_count": 3,
   "id": "15b769d3",
   "metadata": {},
   "outputs": [],
   "source": [
    "df=pd.read_csv('DiamondsPrices.csv')"
   ]
  },
  {
   "cell_type": "markdown",
   "id": "8904637d",
   "metadata": {},
   "source": [
    "# Understanding the Dataset"
   ]
  },
  {
   "cell_type": "code",
   "execution_count": 4,
   "id": "48c77560",
   "metadata": {},
   "outputs": [
    {
     "name": "stdout",
     "output_type": "stream",
     "text": [
      "Dataset shape:  (53940, 10)\n"
     ]
    }
   ],
   "source": [
    "#checking the rows of a dataset\n",
    "print('Dataset shape: ',df.shape)"
   ]
  },
  {
   "cell_type": "code",
   "execution_count": 5,
   "id": "7ee3fac5",
   "metadata": {
    "scrolled": true
   },
   "outputs": [
    {
     "data": {
      "text/html": [
       "<div>\n",
       "<style scoped>\n",
       "    .dataframe tbody tr th:only-of-type {\n",
       "        vertical-align: middle;\n",
       "    }\n",
       "\n",
       "    .dataframe tbody tr th {\n",
       "        vertical-align: top;\n",
       "    }\n",
       "\n",
       "    .dataframe thead th {\n",
       "        text-align: right;\n",
       "    }\n",
       "</style>\n",
       "<table border=\"1\" class=\"dataframe\">\n",
       "  <thead>\n",
       "    <tr style=\"text-align: right;\">\n",
       "      <th></th>\n",
       "      <th>carat</th>\n",
       "      <th>cut</th>\n",
       "      <th>color</th>\n",
       "      <th>clarity</th>\n",
       "      <th>depth</th>\n",
       "      <th>table</th>\n",
       "      <th>price</th>\n",
       "      <th>x</th>\n",
       "      <th>y</th>\n",
       "      <th>z</th>\n",
       "    </tr>\n",
       "  </thead>\n",
       "  <tbody>\n",
       "    <tr>\n",
       "      <th>0</th>\n",
       "      <td>0.23</td>\n",
       "      <td>Ideal</td>\n",
       "      <td>E</td>\n",
       "      <td>SI2</td>\n",
       "      <td>61.5</td>\n",
       "      <td>55.0</td>\n",
       "      <td>326</td>\n",
       "      <td>3.95</td>\n",
       "      <td>3.98</td>\n",
       "      <td>2.43</td>\n",
       "    </tr>\n",
       "    <tr>\n",
       "      <th>1</th>\n",
       "      <td>0.21</td>\n",
       "      <td>Premium</td>\n",
       "      <td>E</td>\n",
       "      <td>SI1</td>\n",
       "      <td>59.8</td>\n",
       "      <td>61.0</td>\n",
       "      <td>326</td>\n",
       "      <td>3.89</td>\n",
       "      <td>3.84</td>\n",
       "      <td>2.31</td>\n",
       "    </tr>\n",
       "    <tr>\n",
       "      <th>2</th>\n",
       "      <td>0.23</td>\n",
       "      <td>Good</td>\n",
       "      <td>E</td>\n",
       "      <td>VS1</td>\n",
       "      <td>56.9</td>\n",
       "      <td>65.0</td>\n",
       "      <td>327</td>\n",
       "      <td>4.05</td>\n",
       "      <td>4.07</td>\n",
       "      <td>2.31</td>\n",
       "    </tr>\n",
       "    <tr>\n",
       "      <th>3</th>\n",
       "      <td>0.29</td>\n",
       "      <td>Premium</td>\n",
       "      <td>I</td>\n",
       "      <td>VS2</td>\n",
       "      <td>62.4</td>\n",
       "      <td>58.0</td>\n",
       "      <td>334</td>\n",
       "      <td>4.20</td>\n",
       "      <td>4.23</td>\n",
       "      <td>2.63</td>\n",
       "    </tr>\n",
       "    <tr>\n",
       "      <th>4</th>\n",
       "      <td>0.31</td>\n",
       "      <td>Good</td>\n",
       "      <td>J</td>\n",
       "      <td>SI2</td>\n",
       "      <td>63.3</td>\n",
       "      <td>58.0</td>\n",
       "      <td>335</td>\n",
       "      <td>4.34</td>\n",
       "      <td>4.35</td>\n",
       "      <td>2.75</td>\n",
       "    </tr>\n",
       "  </tbody>\n",
       "</table>\n",
       "</div>"
      ],
      "text/plain": [
       "   carat      cut color clarity  depth  table  price     x     y     z\n",
       "0   0.23    Ideal     E     SI2   61.5   55.0    326  3.95  3.98  2.43\n",
       "1   0.21  Premium     E     SI1   59.8   61.0    326  3.89  3.84  2.31\n",
       "2   0.23     Good     E     VS1   56.9   65.0    327  4.05  4.07  2.31\n",
       "3   0.29  Premium     I     VS2   62.4   58.0    334  4.20  4.23  2.63\n",
       "4   0.31     Good     J     SI2   63.3   58.0    335  4.34  4.35  2.75"
      ]
     },
     "execution_count": 5,
     "metadata": {},
     "output_type": "execute_result"
    }
   ],
   "source": [
    "# Printing top 5 rows of a dataset\n",
    "df.head()"
   ]
  },
  {
   "cell_type": "code",
   "execution_count": 6,
   "id": "960ae354",
   "metadata": {},
   "outputs": [
    {
     "data": {
      "text/html": [
       "<div>\n",
       "<style scoped>\n",
       "    .dataframe tbody tr th:only-of-type {\n",
       "        vertical-align: middle;\n",
       "    }\n",
       "\n",
       "    .dataframe tbody tr th {\n",
       "        vertical-align: top;\n",
       "    }\n",
       "\n",
       "    .dataframe thead th {\n",
       "        text-align: right;\n",
       "    }\n",
       "</style>\n",
       "<table border=\"1\" class=\"dataframe\">\n",
       "  <thead>\n",
       "    <tr style=\"text-align: right;\">\n",
       "      <th></th>\n",
       "      <th>carat</th>\n",
       "      <th>cut</th>\n",
       "      <th>color</th>\n",
       "      <th>clarity</th>\n",
       "      <th>depth</th>\n",
       "      <th>table</th>\n",
       "      <th>price</th>\n",
       "      <th>x</th>\n",
       "      <th>y</th>\n",
       "      <th>z</th>\n",
       "    </tr>\n",
       "  </thead>\n",
       "  <tbody>\n",
       "    <tr>\n",
       "      <th>53935</th>\n",
       "      <td>0.72</td>\n",
       "      <td>Ideal</td>\n",
       "      <td>D</td>\n",
       "      <td>SI1</td>\n",
       "      <td>60.8</td>\n",
       "      <td>57.0</td>\n",
       "      <td>2757</td>\n",
       "      <td>5.75</td>\n",
       "      <td>5.76</td>\n",
       "      <td>3.50</td>\n",
       "    </tr>\n",
       "    <tr>\n",
       "      <th>53936</th>\n",
       "      <td>0.72</td>\n",
       "      <td>Good</td>\n",
       "      <td>D</td>\n",
       "      <td>SI1</td>\n",
       "      <td>63.1</td>\n",
       "      <td>55.0</td>\n",
       "      <td>2757</td>\n",
       "      <td>5.69</td>\n",
       "      <td>5.75</td>\n",
       "      <td>3.61</td>\n",
       "    </tr>\n",
       "    <tr>\n",
       "      <th>53937</th>\n",
       "      <td>0.70</td>\n",
       "      <td>Very Good</td>\n",
       "      <td>D</td>\n",
       "      <td>SI1</td>\n",
       "      <td>62.8</td>\n",
       "      <td>60.0</td>\n",
       "      <td>2757</td>\n",
       "      <td>5.66</td>\n",
       "      <td>5.68</td>\n",
       "      <td>3.56</td>\n",
       "    </tr>\n",
       "    <tr>\n",
       "      <th>53938</th>\n",
       "      <td>0.86</td>\n",
       "      <td>Premium</td>\n",
       "      <td>H</td>\n",
       "      <td>SI2</td>\n",
       "      <td>61.0</td>\n",
       "      <td>58.0</td>\n",
       "      <td>2757</td>\n",
       "      <td>6.15</td>\n",
       "      <td>6.12</td>\n",
       "      <td>3.74</td>\n",
       "    </tr>\n",
       "    <tr>\n",
       "      <th>53939</th>\n",
       "      <td>0.75</td>\n",
       "      <td>Ideal</td>\n",
       "      <td>D</td>\n",
       "      <td>SI2</td>\n",
       "      <td>62.2</td>\n",
       "      <td>55.0</td>\n",
       "      <td>2757</td>\n",
       "      <td>5.83</td>\n",
       "      <td>5.87</td>\n",
       "      <td>3.64</td>\n",
       "    </tr>\n",
       "  </tbody>\n",
       "</table>\n",
       "</div>"
      ],
      "text/plain": [
       "       carat        cut color clarity  depth  table  price     x     y     z\n",
       "53935   0.72      Ideal     D     SI1   60.8   57.0   2757  5.75  5.76  3.50\n",
       "53936   0.72       Good     D     SI1   63.1   55.0   2757  5.69  5.75  3.61\n",
       "53937   0.70  Very Good     D     SI1   62.8   60.0   2757  5.66  5.68  3.56\n",
       "53938   0.86    Premium     H     SI2   61.0   58.0   2757  6.15  6.12  3.74\n",
       "53939   0.75      Ideal     D     SI2   62.2   55.0   2757  5.83  5.87  3.64"
      ]
     },
     "execution_count": 6,
     "metadata": {},
     "output_type": "execute_result"
    }
   ],
   "source": [
    "#printing bottom rows of a dataset\n",
    "df.tail()\n"
   ]
  },
  {
   "cell_type": "markdown",
   "id": "be172722",
   "metadata": {},
   "source": [
    "##### Checking Null values"
   ]
  },
  {
   "cell_type": "code",
   "execution_count": 7,
   "id": "4e70cf3a",
   "metadata": {
    "scrolled": false
   },
   "outputs": [
    {
     "data": {
      "text/plain": [
       "carat      0\n",
       "cut        0\n",
       "color      0\n",
       "clarity    0\n",
       "depth      0\n",
       "table      0\n",
       "price      0\n",
       "x          0\n",
       "y          0\n",
       "z          0\n",
       "dtype: int64"
      ]
     },
     "execution_count": 7,
     "metadata": {},
     "output_type": "execute_result"
    }
   ],
   "source": [
    "#Checking if there any null values in my dataset?\n",
    "df.isna().sum()"
   ]
  },
  {
   "cell_type": "markdown",
   "id": "74c6bb65",
   "metadata": {},
   "source": [
    "#### Checking Outliers "
   ]
  },
  {
   "cell_type": "code",
   "execution_count": 8,
   "id": "85eabdc8",
   "metadata": {
    "scrolled": true
   },
   "outputs": [
    {
     "name": "stdout",
     "output_type": "stream",
     "text": [
      "Shape after dropping Dataset (47524, 10)\n",
      "dropped Rows : 6416\n"
     ]
    }
   ],
   "source": [
    "#checking for outliers in  columns\n",
    "Q3=df.quantile(0.75)\n",
    "Q1=df.quantile(0.25)\n",
    "IQR=Q3-Q1\n",
    "df=df[~((df < (Q1 - 1.5 * IQR)) |(df > (Q3 + 1.5 * IQR))).any(axis=1)]\n",
    "\n",
    "print('Shape after dropping Dataset',df.shape)\n",
    "print('dropped Rows :' ,53940-47524)"
   ]
  },
  {
   "cell_type": "markdown",
   "id": "8ce282c4",
   "metadata": {},
   "source": [
    "#### Checking Kurtosis "
   ]
  },
  {
   "cell_type": "code",
   "execution_count": 9,
   "id": "3f38b309",
   "metadata": {
    "scrolled": true
   },
   "outputs": [
    {
     "data": {
      "text/plain": [
       "carat   -0.440258\n",
       "depth    0.014946\n",
       "table   -0.178982\n",
       "price    0.645926\n",
       "x       -1.118259\n",
       "y       -1.126954\n",
       "z       -1.124260\n",
       "dtype: float64"
      ]
     },
     "execution_count": 9,
     "metadata": {},
     "output_type": "execute_result"
    }
   ],
   "source": [
    "df.kurtosis()"
   ]
  },
  {
   "cell_type": "markdown",
   "id": "9ade0f50",
   "metadata": {},
   "source": [
    "#### Checking skewness"
   ]
  },
  {
   "cell_type": "code",
   "execution_count": 10,
   "id": "356cce34",
   "metadata": {
    "scrolled": false
   },
   "outputs": [
    {
     "data": {
      "text/plain": [
       "carat    0.689535\n",
       "depth   -0.243694\n",
       "table    0.388558\n",
       "price    1.201398\n",
       "x        0.251800\n",
       "y        0.245616\n",
       "z        0.246154\n",
       "dtype: float64"
      ]
     },
     "execution_count": 10,
     "metadata": {},
     "output_type": "execute_result"
    }
   ],
   "source": [
    "#checking if I have a skewed data or not?\n",
    "df.skew()"
   ]
  },
  {
   "cell_type": "markdown",
   "id": "d4a204e3",
   "metadata": {},
   "source": [
    "### Looking at the distribution of Target variable\n",
    "If target variable's distribution is too skewed then the predictive modeling will not be possible.\n",
    "\n",
    "Bell curve is desirable but slightly positive skew or negative skew is also fine"
   ]
  },
  {
   "cell_type": "markdown",
   "id": "c86fb3e7",
   "metadata": {},
   "source": [
    "##### Applying Log transformation"
   ]
  },
  {
   "cell_type": "code",
   "execution_count": 11,
   "id": "ddc57964",
   "metadata": {},
   "outputs": [],
   "source": [
    "# Applying log transformation\n",
    "df['price1']=np.log(df['price'])"
   ]
  },
  {
   "cell_type": "code",
   "execution_count": 12,
   "id": "661bf75a",
   "metadata": {
    "scrolled": true
   },
   "outputs": [
    {
     "data": {
      "text/plain": [
       "<AxesSubplot:xlabel='price1', ylabel='Count'>"
      ]
     },
     "execution_count": 12,
     "metadata": {},
     "output_type": "execute_result"
    },
    {
     "data": {
      "image/png": "[encoded data removed]",
      "text/plain": [
       "<Figure size 640x480 with 1 Axes>"
      ]
     },
     "metadata": {},
     "output_type": "display_data"
    }
   ],
   "source": [
    "sns.histplot(data=df,x=df['price1'])"
   ]
  },
  {
   "cell_type": "code",
   "execution_count": 13,
   "id": "e349145f",
   "metadata": {},
   "outputs": [],
   "source": [
    "df.drop(labels='price',inplace=True,axis=1)"
   ]
  },
  {
   "cell_type": "markdown",
   "id": "9fcca7d0",
   "metadata": {},
   "source": [
    "## Inference\n",
    "The data distribution of the target variable is satisfactory to proceed further. There are sufficient number of rows for each type of values to learn from. It is slightly positively skewed. which is acceptable."
   ]
  },
  {
   "cell_type": "code",
   "execution_count": 14,
   "id": "f21b8f7f",
   "metadata": {
    "scrolled": true
   },
   "outputs": [
    {
     "data": {
      "text/plain": [
       "0.24561555209553365"
      ]
     },
     "execution_count": 14,
     "metadata": {},
     "output_type": "execute_result"
    },
    {
     "data": {
      "image/png": "[encoded data removed]",
      "text/plain": [
       "<Figure size 640x480 with 1 Axes>"
      ]
     },
     "metadata": {},
     "output_type": "display_data"
    }
   ],
   "source": [
    "#distribution plot of y\n",
    "sns.distplot(df['y'])\n",
    "df['y'].skew()"
   ]
  },
  {
   "cell_type": "code",
   "execution_count": 15,
   "id": "99b948b2",
   "metadata": {},
   "outputs": [
    {
     "data": {
      "text/plain": [
       "0.24615388821109863"
      ]
     },
     "execution_count": 15,
     "metadata": {},
     "output_type": "execute_result"
    },
    {
     "data": {
      "image/png": "[encoded data removed]",
      "text/plain": [
       "<Figure size 640x480 with 1 Axes>"
      ]
     },
     "metadata": {},
     "output_type": "display_data"
    }
   ],
   "source": [
    "# Distribution plot of z\n",
    "sns.distplot(df['z'])\n",
    "df['z'].skew()"
   ]
  },
  {
   "cell_type": "code",
   "execution_count": 16,
   "id": "b0254cb5",
   "metadata": {
    "scrolled": true
   },
   "outputs": [
    {
     "data": {
      "text/plain": [
       "0.2517998473574554"
      ]
     },
     "execution_count": 16,
     "metadata": {},
     "output_type": "execute_result"
    },
    {
     "data": {
      "image/png": "[encoded data removed]",
      "text/plain": [
       "<Figure size 640x480 with 1 Axes>"
      ]
     },
     "metadata": {},
     "output_type": "display_data"
    }
   ],
   "source": [
    "#distribution plot of x\n",
    "sns.distplot(df['x'])\n",
    "df['x'].skew()"
   ]
  },
  {
   "cell_type": "code",
   "execution_count": 17,
   "id": "cf0a2803",
   "metadata": {
    "scrolled": true
   },
   "outputs": [
    {
     "data": {
      "text/plain": [
       "0.06870522140300354"
      ]
     },
     "execution_count": 17,
     "metadata": {},
     "output_type": "execute_result"
    },
    {
     "data": {
      "image/png": "[encoded data removed]",
      "text/plain": [
       "<Figure size 640x480 with 1 Axes>"
      ]
     },
     "metadata": {},
     "output_type": "display_data"
    }
   ],
   "source": [
    "#Distribution plot of price\n",
    "sns.distplot(df['price1'])\n",
    "df['price1'].skew()"
   ]
  },
  {
   "cell_type": "code",
   "execution_count": 18,
   "id": "e692fffd",
   "metadata": {
    "scrolled": true
   },
   "outputs": [
    {
     "data": {
      "text/plain": [
       "0.3885575308983553"
      ]
     },
     "execution_count": 18,
     "metadata": {},
     "output_type": "execute_result"
    },
    {
     "data": {
      "image/png": "[encoded data removed]",
      "text/plain": [
       "<Figure size 640x480 with 1 Axes>"
      ]
     },
     "metadata": {},
     "output_type": "display_data"
    }
   ],
   "source": [
    "#Distribution plot of table\n",
    "sns.distplot(df['table'])\n",
    "df['table'].skew()"
   ]
  },
  {
   "cell_type": "code",
   "execution_count": 19,
   "id": "0e147ce3",
   "metadata": {},
   "outputs": [
    {
     "data": {
      "text/plain": [
       "-0.24369381906629717"
      ]
     },
     "execution_count": 19,
     "metadata": {},
     "output_type": "execute_result"
    },
    {
     "data": {
      "image/png": "[encoded data removed]",
      "text/plain": [
       "<Figure size 640x480 with 1 Axes>"
      ]
     },
     "metadata": {},
     "output_type": "display_data"
    }
   ],
   "source": [
    "# Distribution plot of depth\n",
    "sns.distplot(df['depth'])\n",
    "df['depth'].skew()"
   ]
  },
  {
   "cell_type": "code",
   "execution_count": 20,
   "id": "4674ef6d",
   "metadata": {
    "scrolled": true
   },
   "outputs": [
    {
     "data": {
      "text/plain": [
       "0.6895346034916623"
      ]
     },
     "execution_count": 20,
     "metadata": {},
     "output_type": "execute_result"
    },
    {
     "data": {
      "image/png": "[encoded data removed]",
      "text/plain": [
       "<Figure size 640x480 with 1 Axes>"
      ]
     },
     "metadata": {},
     "output_type": "display_data"
    }
   ],
   "source": [
    "#Distribution plot of carat\n",
    "sns.distplot(df['carat'])\n",
    "df['carat'].skew()"
   ]
  },
  {
   "cell_type": "markdown",
   "id": "e108ff25",
   "metadata": {},
   "source": [
    "#### Checking Duplicated values "
   ]
  },
  {
   "cell_type": "code",
   "execution_count": 21,
   "id": "9fdd7d8c",
   "metadata": {
    "scrolled": true
   },
   "outputs": [
    {
     "data": {
      "text/html": [
       "<div>\n",
       "<style scoped>\n",
       "    .dataframe tbody tr th:only-of-type {\n",
       "        vertical-align: middle;\n",
       "    }\n",
       "\n",
       "    .dataframe tbody tr th {\n",
       "        vertical-align: top;\n",
       "    }\n",
       "\n",
       "    .dataframe thead th {\n",
       "        text-align: right;\n",
       "    }\n",
       "</style>\n",
       "<table border=\"1\" class=\"dataframe\">\n",
       "  <thead>\n",
       "    <tr style=\"text-align: right;\">\n",
       "      <th></th>\n",
       "      <th>carat</th>\n",
       "      <th>cut</th>\n",
       "      <th>color</th>\n",
       "      <th>clarity</th>\n",
       "      <th>depth</th>\n",
       "      <th>table</th>\n",
       "      <th>x</th>\n",
       "      <th>y</th>\n",
       "      <th>z</th>\n",
       "      <th>price1</th>\n",
       "    </tr>\n",
       "  </thead>\n",
       "  <tbody>\n",
       "    <tr>\n",
       "      <th>1005</th>\n",
       "      <td>0.79</td>\n",
       "      <td>Ideal</td>\n",
       "      <td>G</td>\n",
       "      <td>SI1</td>\n",
       "      <td>62.3</td>\n",
       "      <td>57.0</td>\n",
       "      <td>5.90</td>\n",
       "      <td>5.85</td>\n",
       "      <td>3.66</td>\n",
       "      <td>7.971776</td>\n",
       "    </tr>\n",
       "    <tr>\n",
       "      <th>1006</th>\n",
       "      <td>0.79</td>\n",
       "      <td>Ideal</td>\n",
       "      <td>G</td>\n",
       "      <td>SI1</td>\n",
       "      <td>62.3</td>\n",
       "      <td>57.0</td>\n",
       "      <td>5.90</td>\n",
       "      <td>5.85</td>\n",
       "      <td>3.66</td>\n",
       "      <td>7.971776</td>\n",
       "    </tr>\n",
       "    <tr>\n",
       "      <th>1007</th>\n",
       "      <td>0.79</td>\n",
       "      <td>Ideal</td>\n",
       "      <td>G</td>\n",
       "      <td>SI1</td>\n",
       "      <td>62.3</td>\n",
       "      <td>57.0</td>\n",
       "      <td>5.90</td>\n",
       "      <td>5.85</td>\n",
       "      <td>3.66</td>\n",
       "      <td>7.971776</td>\n",
       "    </tr>\n",
       "    <tr>\n",
       "      <th>1008</th>\n",
       "      <td>0.79</td>\n",
       "      <td>Ideal</td>\n",
       "      <td>G</td>\n",
       "      <td>SI1</td>\n",
       "      <td>62.3</td>\n",
       "      <td>57.0</td>\n",
       "      <td>5.90</td>\n",
       "      <td>5.85</td>\n",
       "      <td>3.66</td>\n",
       "      <td>7.971776</td>\n",
       "    </tr>\n",
       "    <tr>\n",
       "      <th>3704</th>\n",
       "      <td>1.00</td>\n",
       "      <td>Ideal</td>\n",
       "      <td>E</td>\n",
       "      <td>SI2</td>\n",
       "      <td>62.9</td>\n",
       "      <td>56.0</td>\n",
       "      <td>6.32</td>\n",
       "      <td>6.30</td>\n",
       "      <td>3.97</td>\n",
       "      <td>8.146130</td>\n",
       "    </tr>\n",
       "    <tr>\n",
       "      <th>...</th>\n",
       "      <td>...</td>\n",
       "      <td>...</td>\n",
       "      <td>...</td>\n",
       "      <td>...</td>\n",
       "      <td>...</td>\n",
       "      <td>...</td>\n",
       "      <td>...</td>\n",
       "      <td>...</td>\n",
       "      <td>...</td>\n",
       "      <td>...</td>\n",
       "    </tr>\n",
       "    <tr>\n",
       "      <th>47069</th>\n",
       "      <td>0.52</td>\n",
       "      <td>Ideal</td>\n",
       "      <td>D</td>\n",
       "      <td>VS2</td>\n",
       "      <td>61.8</td>\n",
       "      <td>55.0</td>\n",
       "      <td>5.16</td>\n",
       "      <td>5.19</td>\n",
       "      <td>3.20</td>\n",
       "      <td>7.507690</td>\n",
       "    </tr>\n",
       "    <tr>\n",
       "      <th>47296</th>\n",
       "      <td>0.30</td>\n",
       "      <td>Good</td>\n",
       "      <td>J</td>\n",
       "      <td>VS1</td>\n",
       "      <td>63.4</td>\n",
       "      <td>57.0</td>\n",
       "      <td>4.23</td>\n",
       "      <td>4.26</td>\n",
       "      <td>2.69</td>\n",
       "      <td>5.976351</td>\n",
       "    </tr>\n",
       "    <tr>\n",
       "      <th>47969</th>\n",
       "      <td>0.52</td>\n",
       "      <td>Ideal</td>\n",
       "      <td>D</td>\n",
       "      <td>VS2</td>\n",
       "      <td>61.8</td>\n",
       "      <td>55.0</td>\n",
       "      <td>5.19</td>\n",
       "      <td>5.16</td>\n",
       "      <td>3.20</td>\n",
       "      <td>7.559559</td>\n",
       "    </tr>\n",
       "    <tr>\n",
       "      <th>49326</th>\n",
       "      <td>0.51</td>\n",
       "      <td>Ideal</td>\n",
       "      <td>F</td>\n",
       "      <td>VVS2</td>\n",
       "      <td>61.2</td>\n",
       "      <td>56.0</td>\n",
       "      <td>5.17</td>\n",
       "      <td>5.19</td>\n",
       "      <td>3.17</td>\n",
       "      <td>7.646354</td>\n",
       "    </tr>\n",
       "    <tr>\n",
       "      <th>50079</th>\n",
       "      <td>0.51</td>\n",
       "      <td>Ideal</td>\n",
       "      <td>F</td>\n",
       "      <td>VVS2</td>\n",
       "      <td>61.2</td>\n",
       "      <td>56.0</td>\n",
       "      <td>5.19</td>\n",
       "      <td>5.17</td>\n",
       "      <td>3.17</td>\n",
       "      <td>7.697575</td>\n",
       "    </tr>\n",
       "  </tbody>\n",
       "</table>\n",
       "<p>112 rows × 10 columns</p>\n",
       "</div>"
      ],
      "text/plain": [
       "       carat    cut color clarity  depth  table     x     y     z    price1\n",
       "1005    0.79  Ideal     G     SI1   62.3   57.0  5.90  5.85  3.66  7.971776\n",
       "1006    0.79  Ideal     G     SI1   62.3   57.0  5.90  5.85  3.66  7.971776\n",
       "1007    0.79  Ideal     G     SI1   62.3   57.0  5.90  5.85  3.66  7.971776\n",
       "1008    0.79  Ideal     G     SI1   62.3   57.0  5.90  5.85  3.66  7.971776\n",
       "3704    1.00  Ideal     E     SI2   62.9   56.0  6.32  6.30  3.97  8.146130\n",
       "...      ...    ...   ...     ...    ...    ...   ...   ...   ...       ...\n",
       "47069   0.52  Ideal     D     VS2   61.8   55.0  5.16  5.19  3.20  7.507690\n",
       "47296   0.30   Good     J     VS1   63.4   57.0  4.23  4.26  2.69  5.976351\n",
       "47969   0.52  Ideal     D     VS2   61.8   55.0  5.19  5.16  3.20  7.559559\n",
       "49326   0.51  Ideal     F    VVS2   61.2   56.0  5.17  5.19  3.17  7.646354\n",
       "50079   0.51  Ideal     F    VVS2   61.2   56.0  5.19  5.17  3.17  7.697575\n",
       "\n",
       "[112 rows x 10 columns]"
      ]
     },
     "execution_count": 21,
     "metadata": {},
     "output_type": "execute_result"
    }
   ],
   "source": [
    "#checking if we have any duplicate values in dataset?\n",
    "df[df.duplicated()]"
   ]
  },
  {
   "cell_type": "code",
   "execution_count": 22,
   "id": "238c4dd0",
   "metadata": {
    "scrolled": true
   },
   "outputs": [
    {
     "name": "stdout",
     "output_type": "stream",
     "text": [
      "Rows in dataset after dropping duplicated rows : 47412\n",
      "shape of data frame after dropping outliers : (47412, 10)\n"
     ]
    }
   ],
   "source": [
    "#Dropping Duplicated rows\n",
    "df.drop_duplicates(inplace=True)\n",
    "\n",
    "#Shape of dataset after dropping duplicated rows\n",
    "print('Rows in dataset after dropping duplicated rows :',47524-112)\n",
    "\n",
    "#shape of Dataframe after deleting the outliers\n",
    "print('shape of data frame after dropping outliers :',df.shape)"
   ]
  },
  {
   "cell_type": "code",
   "execution_count": 23,
   "id": "6f74eb33",
   "metadata": {
    "scrolled": true
   },
   "outputs": [
    {
     "data": {
      "text/html": [
       "<div>\n",
       "<style scoped>\n",
       "    .dataframe tbody tr th:only-of-type {\n",
       "        vertical-align: middle;\n",
       "    }\n",
       "\n",
       "    .dataframe tbody tr th {\n",
       "        vertical-align: top;\n",
       "    }\n",
       "\n",
       "    .dataframe thead th {\n",
       "        text-align: right;\n",
       "    }\n",
       "</style>\n",
       "<table border=\"1\" class=\"dataframe\">\n",
       "  <thead>\n",
       "    <tr style=\"text-align: right;\">\n",
       "      <th></th>\n",
       "      <th>carat</th>\n",
       "      <th>depth</th>\n",
       "      <th>table</th>\n",
       "      <th>x</th>\n",
       "      <th>y</th>\n",
       "      <th>z</th>\n",
       "      <th>price1</th>\n",
       "    </tr>\n",
       "  </thead>\n",
       "  <tbody>\n",
       "    <tr>\n",
       "      <th>count</th>\n",
       "      <td>47412.000000</td>\n",
       "      <td>47412.000000</td>\n",
       "      <td>47412.000000</td>\n",
       "      <td>47412.000000</td>\n",
       "      <td>47412.000000</td>\n",
       "      <td>47412.000000</td>\n",
       "      <td>47412.000000</td>\n",
       "    </tr>\n",
       "    <tr>\n",
       "      <th>mean</th>\n",
       "      <td>0.708891</td>\n",
       "      <td>61.785926</td>\n",
       "      <td>57.261603</td>\n",
       "      <td>5.547276</td>\n",
       "      <td>5.552146</td>\n",
       "      <td>3.428745</td>\n",
       "      <td>7.638956</td>\n",
       "    </tr>\n",
       "    <tr>\n",
       "      <th>std</th>\n",
       "      <td>0.370974</td>\n",
       "      <td>1.106231</td>\n",
       "      <td>2.021752</td>\n",
       "      <td>0.979628</td>\n",
       "      <td>0.973734</td>\n",
       "      <td>0.606007</td>\n",
       "      <td>0.926031</td>\n",
       "    </tr>\n",
       "    <tr>\n",
       "      <th>min</th>\n",
       "      <td>0.200000</td>\n",
       "      <td>58.800000</td>\n",
       "      <td>52.000000</td>\n",
       "      <td>3.730000</td>\n",
       "      <td>3.680000</td>\n",
       "      <td>1.410000</td>\n",
       "      <td>5.786897</td>\n",
       "    </tr>\n",
       "    <tr>\n",
       "      <th>25%</th>\n",
       "      <td>0.380000</td>\n",
       "      <td>61.100000</td>\n",
       "      <td>56.000000</td>\n",
       "      <td>4.640000</td>\n",
       "      <td>4.650000</td>\n",
       "      <td>2.860000</td>\n",
       "      <td>6.792344</td>\n",
       "    </tr>\n",
       "    <tr>\n",
       "      <th>50%</th>\n",
       "      <td>0.600000</td>\n",
       "      <td>61.900000</td>\n",
       "      <td>57.000000</td>\n",
       "      <td>5.440000</td>\n",
       "      <td>5.460000</td>\n",
       "      <td>3.360000</td>\n",
       "      <td>7.632401</td>\n",
       "    </tr>\n",
       "    <tr>\n",
       "      <th>75%</th>\n",
       "      <td>1.010000</td>\n",
       "      <td>62.500000</td>\n",
       "      <td>59.000000</td>\n",
       "      <td>6.410000</td>\n",
       "      <td>6.410000</td>\n",
       "      <td>3.980000</td>\n",
       "      <td>8.441823</td>\n",
       "    </tr>\n",
       "    <tr>\n",
       "      <th>max</th>\n",
       "      <td>2.000000</td>\n",
       "      <td>64.700000</td>\n",
       "      <td>63.500000</td>\n",
       "      <td>8.280000</td>\n",
       "      <td>8.270000</td>\n",
       "      <td>5.300000</td>\n",
       "      <td>9.382864</td>\n",
       "    </tr>\n",
       "  </tbody>\n",
       "</table>\n",
       "</div>"
      ],
      "text/plain": [
       "              carat         depth         table             x             y  \\\n",
       "count  47412.000000  47412.000000  47412.000000  47412.000000  47412.000000   \n",
       "mean       0.708891     61.785926     57.261603      5.547276      5.552146   \n",
       "std        0.370974      1.106231      2.021752      0.979628      0.973734   \n",
       "min        0.200000     58.800000     52.000000      3.730000      3.680000   \n",
       "25%        0.380000     61.100000     56.000000      4.640000      4.650000   \n",
       "50%        0.600000     61.900000     57.000000      5.440000      5.460000   \n",
       "75%        1.010000     62.500000     59.000000      6.410000      6.410000   \n",
       "max        2.000000     64.700000     63.500000      8.280000      8.270000   \n",
       "\n",
       "                  z        price1  \n",
       "count  47412.000000  47412.000000  \n",
       "mean       3.428745      7.638956  \n",
       "std        0.606007      0.926031  \n",
       "min        1.410000      5.786897  \n",
       "25%        2.860000      6.792344  \n",
       "50%        3.360000      7.632401  \n",
       "75%        3.980000      8.441823  \n",
       "max        5.300000      9.382864  "
      ]
     },
     "execution_count": 23,
     "metadata": {},
     "output_type": "execute_result"
    }
   ],
   "source": [
    "#checking the descriptive summary numerical columns\n",
    "df.describe()"
   ]
  },
  {
   "cell_type": "code",
   "execution_count": 24,
   "id": "e8bdbc95",
   "metadata": {},
   "outputs": [
    {
     "data": {
      "text/html": [
       "<div>\n",
       "<style scoped>\n",
       "    .dataframe tbody tr th:only-of-type {\n",
       "        vertical-align: middle;\n",
       "    }\n",
       "\n",
       "    .dataframe tbody tr th {\n",
       "        vertical-align: top;\n",
       "    }\n",
       "\n",
       "    .dataframe thead th {\n",
       "        text-align: right;\n",
       "    }\n",
       "</style>\n",
       "<table border=\"1\" class=\"dataframe\">\n",
       "  <thead>\n",
       "    <tr style=\"text-align: right;\">\n",
       "      <th></th>\n",
       "      <th>cut</th>\n",
       "      <th>color</th>\n",
       "      <th>clarity</th>\n",
       "    </tr>\n",
       "  </thead>\n",
       "  <tbody>\n",
       "    <tr>\n",
       "      <th>count</th>\n",
       "      <td>47412</td>\n",
       "      <td>47412</td>\n",
       "      <td>47412</td>\n",
       "    </tr>\n",
       "    <tr>\n",
       "      <th>unique</th>\n",
       "      <td>5</td>\n",
       "      <td>7</td>\n",
       "      <td>8</td>\n",
       "    </tr>\n",
       "    <tr>\n",
       "      <th>top</th>\n",
       "      <td>Ideal</td>\n",
       "      <td>G</td>\n",
       "      <td>SI1</td>\n",
       "    </tr>\n",
       "    <tr>\n",
       "      <th>freq</th>\n",
       "      <td>20278</td>\n",
       "      <td>10056</td>\n",
       "      <td>11524</td>\n",
       "    </tr>\n",
       "  </tbody>\n",
       "</table>\n",
       "</div>"
      ],
      "text/plain": [
       "          cut  color clarity\n",
       "count   47412  47412   47412\n",
       "unique      5      7       8\n",
       "top     Ideal      G     SI1\n",
       "freq    20278  10056   11524"
      ]
     },
     "execution_count": 24,
     "metadata": {},
     "output_type": "execute_result"
    }
   ],
   "source": [
    "#checking the descriptive summary categorical columns\n",
    "df.describe(include='object')"
   ]
  },
  {
   "cell_type": "code",
   "execution_count": 25,
   "id": "5a0ce1b1",
   "metadata": {},
   "outputs": [
    {
     "name": "stdout",
     "output_type": "stream",
     "text": [
      "<class 'pandas.core.frame.DataFrame'>\n",
      "Int64Index: 47412 entries, 0 to 53939\n",
      "Data columns (total 10 columns):\n",
      " #   Column   Non-Null Count  Dtype  \n",
      "---  ------   --------------  -----  \n",
      " 0   carat    47412 non-null  float64\n",
      " 1   cut      47412 non-null  object \n",
      " 2   color    47412 non-null  object \n",
      " 3   clarity  47412 non-null  object \n",
      " 4   depth    47412 non-null  float64\n",
      " 5   table    47412 non-null  float64\n",
      " 6   x        47412 non-null  float64\n",
      " 7   y        47412 non-null  float64\n",
      " 8   z        47412 non-null  float64\n",
      " 9   price1   47412 non-null  float64\n",
      "dtypes: float64(7), object(3)\n",
      "memory usage: 4.0+ MB\n"
     ]
    }
   ],
   "source": [
    "df.info()"
   ]
  },
  {
   "cell_type": "markdown",
   "id": "0982be25",
   "metadata": {},
   "source": [
    "# EDA"
   ]
  },
  {
   "cell_type": "markdown",
   "id": "da774c69",
   "metadata": {},
   "source": [
    "# Univariate Analysis"
   ]
  },
  {
   "cell_type": "code",
   "execution_count": 26,
   "id": "0c25f910",
   "metadata": {},
   "outputs": [
    {
     "data": {
      "text/html": [
       "<div>\n",
       "<style scoped>\n",
       "    .dataframe tbody tr th:only-of-type {\n",
       "        vertical-align: middle;\n",
       "    }\n",
       "\n",
       "    .dataframe tbody tr th {\n",
       "        vertical-align: top;\n",
       "    }\n",
       "\n",
       "    .dataframe thead th {\n",
       "        text-align: right;\n",
       "    }\n",
       "</style>\n",
       "<table border=\"1\" class=\"dataframe\">\n",
       "  <thead>\n",
       "    <tr style=\"text-align: right;\">\n",
       "      <th></th>\n",
       "      <th>carat</th>\n",
       "      <th>depth</th>\n",
       "      <th>table</th>\n",
       "      <th>x</th>\n",
       "      <th>y</th>\n",
       "      <th>z</th>\n",
       "      <th>price1</th>\n",
       "    </tr>\n",
       "  </thead>\n",
       "  <tbody>\n",
       "    <tr>\n",
       "      <th>count</th>\n",
       "      <td>47412.000000</td>\n",
       "      <td>47412.000000</td>\n",
       "      <td>47412.000000</td>\n",
       "      <td>47412.000000</td>\n",
       "      <td>47412.000000</td>\n",
       "      <td>47412.000000</td>\n",
       "      <td>47412.000000</td>\n",
       "    </tr>\n",
       "    <tr>\n",
       "      <th>mean</th>\n",
       "      <td>0.708891</td>\n",
       "      <td>61.785926</td>\n",
       "      <td>57.261603</td>\n",
       "      <td>5.547276</td>\n",
       "      <td>5.552146</td>\n",
       "      <td>3.428745</td>\n",
       "      <td>7.638956</td>\n",
       "    </tr>\n",
       "    <tr>\n",
       "      <th>std</th>\n",
       "      <td>0.370974</td>\n",
       "      <td>1.106231</td>\n",
       "      <td>2.021752</td>\n",
       "      <td>0.979628</td>\n",
       "      <td>0.973734</td>\n",
       "      <td>0.606007</td>\n",
       "      <td>0.926031</td>\n",
       "    </tr>\n",
       "    <tr>\n",
       "      <th>min</th>\n",
       "      <td>0.200000</td>\n",
       "      <td>58.800000</td>\n",
       "      <td>52.000000</td>\n",
       "      <td>3.730000</td>\n",
       "      <td>3.680000</td>\n",
       "      <td>1.410000</td>\n",
       "      <td>5.786897</td>\n",
       "    </tr>\n",
       "    <tr>\n",
       "      <th>25%</th>\n",
       "      <td>0.380000</td>\n",
       "      <td>61.100000</td>\n",
       "      <td>56.000000</td>\n",
       "      <td>4.640000</td>\n",
       "      <td>4.650000</td>\n",
       "      <td>2.860000</td>\n",
       "      <td>6.792344</td>\n",
       "    </tr>\n",
       "    <tr>\n",
       "      <th>50%</th>\n",
       "      <td>0.600000</td>\n",
       "      <td>61.900000</td>\n",
       "      <td>57.000000</td>\n",
       "      <td>5.440000</td>\n",
       "      <td>5.460000</td>\n",
       "      <td>3.360000</td>\n",
       "      <td>7.632401</td>\n",
       "    </tr>\n",
       "    <tr>\n",
       "      <th>75%</th>\n",
       "      <td>1.010000</td>\n",
       "      <td>62.500000</td>\n",
       "      <td>59.000000</td>\n",
       "      <td>6.410000</td>\n",
       "      <td>6.410000</td>\n",
       "      <td>3.980000</td>\n",
       "      <td>8.441823</td>\n",
       "    </tr>\n",
       "    <tr>\n",
       "      <th>max</th>\n",
       "      <td>2.000000</td>\n",
       "      <td>64.700000</td>\n",
       "      <td>63.500000</td>\n",
       "      <td>8.280000</td>\n",
       "      <td>8.270000</td>\n",
       "      <td>5.300000</td>\n",
       "      <td>9.382864</td>\n",
       "    </tr>\n",
       "  </tbody>\n",
       "</table>\n",
       "</div>"
      ],
      "text/plain": [
       "              carat         depth         table             x             y  \\\n",
       "count  47412.000000  47412.000000  47412.000000  47412.000000  47412.000000   \n",
       "mean       0.708891     61.785926     57.261603      5.547276      5.552146   \n",
       "std        0.370974      1.106231      2.021752      0.979628      0.973734   \n",
       "min        0.200000     58.800000     52.000000      3.730000      3.680000   \n",
       "25%        0.380000     61.100000     56.000000      4.640000      4.650000   \n",
       "50%        0.600000     61.900000     57.000000      5.440000      5.460000   \n",
       "75%        1.010000     62.500000     59.000000      6.410000      6.410000   \n",
       "max        2.000000     64.700000     63.500000      8.280000      8.270000   \n",
       "\n",
       "                  z        price1  \n",
       "count  47412.000000  47412.000000  \n",
       "mean       3.428745      7.638956  \n",
       "std        0.606007      0.926031  \n",
       "min        1.410000      5.786897  \n",
       "25%        2.860000      6.792344  \n",
       "50%        3.360000      7.632401  \n",
       "75%        3.980000      8.441823  \n",
       "max        5.300000      9.382864  "
      ]
     },
     "execution_count": 26,
     "metadata": {},
     "output_type": "execute_result"
    }
   ],
   "source": [
    "#checking the descriptive summary numerical columns\n",
    "#statistical measures of data\n",
    "df.describe()"
   ]
  },
  {
   "cell_type": "markdown",
   "id": "e2f77a33",
   "metadata": {
    "scrolled": true
   },
   "source": [
    "### checking the descriptive summary categorical columns"
   ]
  },
  {
   "cell_type": "code",
   "execution_count": 27,
   "id": "6dc6293a",
   "metadata": {
    "scrolled": true
   },
   "outputs": [
    {
     "data": {
      "text/html": [
       "<div>\n",
       "<style scoped>\n",
       "    .dataframe tbody tr th:only-of-type {\n",
       "        vertical-align: middle;\n",
       "    }\n",
       "\n",
       "    .dataframe tbody tr th {\n",
       "        vertical-align: top;\n",
       "    }\n",
       "\n",
       "    .dataframe thead th {\n",
       "        text-align: right;\n",
       "    }\n",
       "</style>\n",
       "<table border=\"1\" class=\"dataframe\">\n",
       "  <thead>\n",
       "    <tr style=\"text-align: right;\">\n",
       "      <th></th>\n",
       "      <th>cut</th>\n",
       "      <th>color</th>\n",
       "      <th>clarity</th>\n",
       "    </tr>\n",
       "  </thead>\n",
       "  <tbody>\n",
       "    <tr>\n",
       "      <th>count</th>\n",
       "      <td>47412</td>\n",
       "      <td>47412</td>\n",
       "      <td>47412</td>\n",
       "    </tr>\n",
       "    <tr>\n",
       "      <th>unique</th>\n",
       "      <td>5</td>\n",
       "      <td>7</td>\n",
       "      <td>8</td>\n",
       "    </tr>\n",
       "    <tr>\n",
       "      <th>top</th>\n",
       "      <td>Ideal</td>\n",
       "      <td>G</td>\n",
       "      <td>SI1</td>\n",
       "    </tr>\n",
       "    <tr>\n",
       "      <th>freq</th>\n",
       "      <td>20278</td>\n",
       "      <td>10056</td>\n",
       "      <td>11524</td>\n",
       "    </tr>\n",
       "  </tbody>\n",
       "</table>\n",
       "</div>"
      ],
      "text/plain": [
       "          cut  color clarity\n",
       "count   47412  47412   47412\n",
       "unique      5      7       8\n",
       "top     Ideal      G     SI1\n",
       "freq    20278  10056   11524"
      ]
     },
     "execution_count": 27,
     "metadata": {},
     "output_type": "execute_result"
    }
   ],
   "source": [
    "#statistical measure of categorical feature\n",
    "df.describe(include='object')"
   ]
  },
  {
   "cell_type": "markdown",
   "id": "b5852290",
   "metadata": {},
   "source": [
    "##### For categorical columns \n",
    "we can create a barplot or count plot.\n",
    "##### Categorical Predictors: 'cut', 'color', 'clarity'"
   ]
  },
  {
   "cell_type": "markdown",
   "id": "da5291a9",
   "metadata": {},
   "source": [
    "### Countplot"
   ]
  },
  {
   "cell_type": "code",
   "execution_count": 28,
   "id": "3ea8ef74",
   "metadata": {
    "scrolled": true
   },
   "outputs": [
    {
     "data": {
      "image/png": "[encoded data removed]",
      "text/plain": [
       "<Figure size 640x480 with 1 Axes>"
      ]
     },
     "metadata": {},
     "output_type": "display_data"
    },
    {
     "data": {
      "image/png": "[encoded data removed]",
      "text/plain": [
       "<Figure size 640x480 with 1 Axes>"
      ]
     },
     "metadata": {},
     "output_type": "display_data"
    },
    {
     "data": {
      "image/png": "[encoded data removed]",
      "text/plain": [
       "<Figure size 640x480 with 1 Axes>"
      ]
     },
     "metadata": {},
     "output_type": "display_data"
    }
   ],
   "source": [
    "#countplot:\n",
    "for col in df.select_dtypes(include='object'):\n",
    "    sns.countplot(data=df.select_dtypes(include='object'),x=col)\n",
    "    plt.show()"
   ]
  },
  {
   "cell_type": "markdown",
   "id": "52fa406f",
   "metadata": {},
   "source": [
    "### Interpretation\n",
    "IN cut Ideal has highest frequency and is about 20000, while fair has lowest frequency\n",
    "\n",
    "IN color G has the highrest Frequency and is about 10000, while J has lowest of 2000\n",
    "\n",
    "In clarity SI1 has highest frequency and is around 12000, while l1 has lowest frequency "
   ]
  },
  {
   "cell_type": "markdown",
   "id": "96ea942d",
   "metadata": {},
   "source": [
    "#### For Numerical Columns"
   ]
  },
  {
   "cell_type": "markdown",
   "id": "78f0ed3f",
   "metadata": {},
   "source": [
    "#### Distribution plot of all continuos preedictors:"
   ]
  },
  {
   "cell_type": "code",
   "execution_count": 29,
   "id": "b0642253",
   "metadata": {
    "scrolled": true
   },
   "outputs": [
    {
     "data": {
      "image/png": "[encoded data removed]",
      "text/plain": [
       "<Figure size 640x480 with 1 Axes>"
      ]
     },
     "metadata": {},
     "output_type": "display_data"
    },
    {
     "data": {
      "image/png": "[encoded data removed]",
      "text/plain": [
       "<Figure size 640x480 with 1 Axes>"
      ]
     },
     "metadata": {},
     "output_type": "display_data"
    },
    {
     "data": {
      "image/png": "[encoded data removed]",
      "text/plain": [
       "<Figure size 640x480 with 1 Axes>"
      ]
     },
     "metadata": {},
     "output_type": "display_data"
    },
    {
     "data": {
      "image/png": "[encoded data removed]",
      "text/plain": [
       "<Figure size 640x480 with 1 Axes>"
      ]
     },
     "metadata": {},
     "output_type": "display_data"
    },
    {
     "data": {
      "image/png": "[encoded data removed]",
      "text/plain": [
       "<Figure size 640x480 with 1 Axes>"
      ]
     },
     "metadata": {},
     "output_type": "display_data"
    },
    {
     "data": {
      "image/png": "[encoded data removed]",
      "text/plain": [
       "<Figure size 640x480 with 1 Axes>"
      ]
     },
     "metadata": {},
     "output_type": "display_data"
    },
    {
     "data": {
      "image/png": "[encoded data removed]",
      "text/plain": [
       "<Figure size 640x480 with 1 Axes>"
      ]
     },
     "metadata": {},
     "output_type": "display_data"
    }
   ],
   "source": [
    "#Distribution plot of all continuos preedictors:\n",
    "for col in df.select_dtypes(include='number'):\n",
    "    sns.distplot(a=df[col])\n",
    "    plt.show()"
   ]
  },
  {
   "cell_type": "markdown",
   "id": "370f5bfb",
   "metadata": {},
   "source": [
    "### Inference:\n",
    "Price column is right skewed."
   ]
  },
  {
   "cell_type": "markdown",
   "id": "b6e61fbe",
   "metadata": {},
   "source": [
    "#### Histogram for all numerical variables"
   ]
  },
  {
   "cell_type": "code",
   "execution_count": 30,
   "id": "085a0b22",
   "metadata": {},
   "outputs": [
    {
     "data": {
      "image/png": "[encoded data removed]",
      "text/plain": [
       "<Figure size 640x480 with 1 Axes>"
      ]
     },
     "metadata": {},
     "output_type": "display_data"
    },
    {
     "data": {
      "image/png": "[encoded data removed]",
      "text/plain": [
       "<Figure size 640x480 with 1 Axes>"
      ]
     },
     "metadata": {},
     "output_type": "display_data"
    },
    {
     "data": {
      "image/png": "[encoded data removed]",
      "text/plain": [
       "<Figure size 640x480 with 1 Axes>"
      ]
     },
     "metadata": {},
     "output_type": "display_data"
    },
    {
     "data": {
      "image/png": "[encoded data removed]",
      "text/plain": [
       "<Figure size 640x480 with 1 Axes>"
      ]
     },
     "metadata": {},
     "output_type": "display_data"
    },
    {
     "data": {
      "image/png": "[encoded data removed]",
      "text/plain": [
       "<Figure size 640x480 with 1 Axes>"
      ]
     },
     "metadata": {},
     "output_type": "display_data"
    },
    {
     "data": {
      "image/png": "[encoded data removed]",
      "text/plain": [
       "<Figure size 640x480 with 1 Axes>"
      ]
     },
     "metadata": {},
     "output_type": "display_data"
    },
    {
     "data": {
      "image/png": "[encoded data removed]",
      "text/plain": [
       "<Figure size 640x480 with 1 Axes>"
      ]
     },
     "metadata": {},
     "output_type": "display_data"
    }
   ],
   "source": [
    "#Histogram\n",
    "for col in df.select_dtypes(include='number'):\n",
    "    sns.histplot(data=df.select_dtypes(include='number'),x=col)\n",
    "    plt.show()"
   ]
  },
  {
   "cell_type": "markdown",
   "id": "dcd46362",
   "metadata": {},
   "source": [
    "# Multivariate Analysis"
   ]
  },
  {
   "cell_type": "markdown",
   "id": "97e65c57",
   "metadata": {},
   "source": [
    "### Checking correlation"
   ]
  },
  {
   "cell_type": "code",
   "execution_count": 113,
   "id": "a4a08c11",
   "metadata": {
    "scrolled": false
   },
   "outputs": [],
   "source": [
    "# Checking the Correlation \n",
    "df_corr=df.corr()"
   ]
  },
  {
   "cell_type": "code",
   "execution_count": 114,
   "id": "85f3a600",
   "metadata": {
    "scrolled": true
   },
   "outputs": [
    {
     "data": {
      "text/html": [
       "<div>\n",
       "<style scoped>\n",
       "    .dataframe tbody tr th:only-of-type {\n",
       "        vertical-align: middle;\n",
       "    }\n",
       "\n",
       "    .dataframe tbody tr th {\n",
       "        vertical-align: top;\n",
       "    }\n",
       "\n",
       "    .dataframe thead th {\n",
       "        text-align: right;\n",
       "    }\n",
       "</style>\n",
       "<table border=\"1\" class=\"dataframe\">\n",
       "  <thead>\n",
       "    <tr style=\"text-align: right;\">\n",
       "      <th></th>\n",
       "      <th>carat</th>\n",
       "      <th>depth</th>\n",
       "      <th>table</th>\n",
       "      <th>price</th>\n",
       "      <th>x</th>\n",
       "      <th>y</th>\n",
       "      <th>z</th>\n",
       "      <th>price1</th>\n",
       "    </tr>\n",
       "  </thead>\n",
       "  <tbody>\n",
       "    <tr>\n",
       "      <th>carat</th>\n",
       "      <td>1.000000</td>\n",
       "      <td>0.036227</td>\n",
       "      <td>0.186638</td>\n",
       "      <td>0.922932</td>\n",
       "      <td>0.986280</td>\n",
       "      <td>0.985451</td>\n",
       "      <td>0.985073</td>\n",
       "      <td>0.937323</td>\n",
       "    </tr>\n",
       "    <tr>\n",
       "      <th>depth</th>\n",
       "      <td>0.036227</td>\n",
       "      <td>1.000000</td>\n",
       "      <td>-0.240451</td>\n",
       "      <td>0.006450</td>\n",
       "      <td>-0.010184</td>\n",
       "      <td>-0.011842</td>\n",
       "      <td>0.093079</td>\n",
       "      <td>0.011728</td>\n",
       "    </tr>\n",
       "    <tr>\n",
       "      <th>table</th>\n",
       "      <td>0.186638</td>\n",
       "      <td>-0.240451</td>\n",
       "      <td>1.000000</td>\n",
       "      <td>0.136226</td>\n",
       "      <td>0.185722</td>\n",
       "      <td>0.180274</td>\n",
       "      <td>0.158430</td>\n",
       "      <td>0.153860</td>\n",
       "    </tr>\n",
       "    <tr>\n",
       "      <th>price</th>\n",
       "      <td>0.922932</td>\n",
       "      <td>0.006450</td>\n",
       "      <td>0.136226</td>\n",
       "      <td>1.000000</td>\n",
       "      <td>0.899821</td>\n",
       "      <td>0.900957</td>\n",
       "      <td>0.896542</td>\n",
       "      <td>0.925106</td>\n",
       "    </tr>\n",
       "    <tr>\n",
       "      <th>x</th>\n",
       "      <td>0.986280</td>\n",
       "      <td>-0.010184</td>\n",
       "      <td>0.185722</td>\n",
       "      <td>0.899821</td>\n",
       "      <td>1.000000</td>\n",
       "      <td>0.998532</td>\n",
       "      <td>0.993341</td>\n",
       "      <td>0.960728</td>\n",
       "    </tr>\n",
       "    <tr>\n",
       "      <th>y</th>\n",
       "      <td>0.985451</td>\n",
       "      <td>-0.011842</td>\n",
       "      <td>0.180274</td>\n",
       "      <td>0.900957</td>\n",
       "      <td>0.998532</td>\n",
       "      <td>1.000000</td>\n",
       "      <td>0.993163</td>\n",
       "      <td>0.960909</td>\n",
       "    </tr>\n",
       "    <tr>\n",
       "      <th>z</th>\n",
       "      <td>0.985073</td>\n",
       "      <td>0.093079</td>\n",
       "      <td>0.158430</td>\n",
       "      <td>0.896542</td>\n",
       "      <td>0.993341</td>\n",
       "      <td>0.993163</td>\n",
       "      <td>1.000000</td>\n",
       "      <td>0.957665</td>\n",
       "    </tr>\n",
       "    <tr>\n",
       "      <th>price1</th>\n",
       "      <td>0.937323</td>\n",
       "      <td>0.011728</td>\n",
       "      <td>0.153860</td>\n",
       "      <td>0.925106</td>\n",
       "      <td>0.960728</td>\n",
       "      <td>0.960909</td>\n",
       "      <td>0.957665</td>\n",
       "      <td>1.000000</td>\n",
       "    </tr>\n",
       "  </tbody>\n",
       "</table>\n",
       "</div>"
      ],
      "text/plain": [
       "           carat     depth     table     price         x         y         z  \\\n",
       "carat   1.000000  0.036227  0.186638  0.922932  0.986280  0.985451  0.985073   \n",
       "depth   0.036227  1.000000 -0.240451  0.006450 -0.010184 -0.011842  0.093079   \n",
       "table   0.186638 -0.240451  1.000000  0.136226  0.185722  0.180274  0.158430   \n",
       "price   0.922932  0.006450  0.136226  1.000000  0.899821  0.900957  0.896542   \n",
       "x       0.986280 -0.010184  0.185722  0.899821  1.000000  0.998532  0.993341   \n",
       "y       0.985451 -0.011842  0.180274  0.900957  0.998532  1.000000  0.993163   \n",
       "z       0.985073  0.093079  0.158430  0.896542  0.993341  0.993163  1.000000   \n",
       "price1  0.937323  0.011728  0.153860  0.925106  0.960728  0.960909  0.957665   \n",
       "\n",
       "          price1  \n",
       "carat   0.937323  \n",
       "depth   0.011728  \n",
       "table   0.153860  \n",
       "price   0.925106  \n",
       "x       0.960728  \n",
       "y       0.960909  \n",
       "z       0.957665  \n",
       "price1  1.000000  "
      ]
     },
     "execution_count": 114,
     "metadata": {},
     "output_type": "execute_result"
    }
   ],
   "source": [
    "df_corr"
   ]
  },
  {
   "cell_type": "code",
   "execution_count": 46,
   "id": "ce85c068",
   "metadata": {
    "scrolled": true
   },
   "outputs": [
    {
     "data": {
      "text/plain": [
       "<AxesSubplot:>"
      ]
     },
     "execution_count": 46,
     "metadata": {},
     "output_type": "execute_result"
    },
    {
     "data": {
      "image/png": "[encoded data removed]",
      "text/plain": [
       "<Figure size 1000x1000 with 2 Axes>"
      ]
     },
     "metadata": {},
     "output_type": "display_data"
    }
   ],
   "source": [
    "correlation = df.corr()\n",
    "plt.figure(figsize=(10,10))\n",
    "sns.heatmap(correlation, cbar=True, square=True, fmt='.1f', annot=True, annot_kws={'size':8}, cmap='Blues')\n"
   ]
  },
  {
   "cell_type": "markdown",
   "id": "39ad3844",
   "metadata": {},
   "source": [
    "'carat', 'x','y','z' have very high positive correlation with target variable.Therefore, they can used while building the model."
   ]
  },
  {
   "cell_type": "markdown",
   "id": "1795131a",
   "metadata": {},
   "source": [
    "### Calculating VIF"
   ]
  },
  {
   "cell_type": "code",
   "execution_count": 31,
   "id": "946d235d",
   "metadata": {},
   "outputs": [],
   "source": [
    "import statsmodels.api as sm\n",
    "from statsmodels.stats.outliers_influence import variance_inflation_factor\n",
    "\n",
    "# Select numerical columns from your dataset\n",
    "numerical_columns = df.select_dtypes(include=['float64', 'int64'])\n",
    "\n",
    "# Add a constant term to the numerical columns\n",
    "X_with_constant = sm.add_constant(numerical_columns)\n",
    "\n",
    "# Calculate VIF for each numerical feature\n",
    "vif = pd.DataFrame()\n",
    "vif[\"Variable\"] = X_with_constant.columns\n",
    "vif[\"VIF\"] = [variance_inflation_factor(X_with_constant.values, i) for i in range(X_with_constant.shape[1])]\n",
    "\n"
   ]
  },
  {
   "cell_type": "code",
   "execution_count": 32,
   "id": "8651bbb7",
   "metadata": {},
   "outputs": [
    {
     "data": {
      "text/html": [
       "<div>\n",
       "<style scoped>\n",
       "    .dataframe tbody tr th:only-of-type {\n",
       "        vertical-align: middle;\n",
       "    }\n",
       "\n",
       "    .dataframe tbody tr th {\n",
       "        vertical-align: top;\n",
       "    }\n",
       "\n",
       "    .dataframe thead th {\n",
       "        text-align: right;\n",
       "    }\n",
       "</style>\n",
       "<table border=\"1\" class=\"dataframe\">\n",
       "  <thead>\n",
       "    <tr style=\"text-align: right;\">\n",
       "      <th></th>\n",
       "      <th>Variable</th>\n",
       "      <th>VIF</th>\n",
       "    </tr>\n",
       "  </thead>\n",
       "  <tbody>\n",
       "    <tr>\n",
       "      <th>0</th>\n",
       "      <td>const</td>\n",
       "      <td>24773.807717</td>\n",
       "    </tr>\n",
       "    <tr>\n",
       "      <th>1</th>\n",
       "      <td>carat</td>\n",
       "      <td>43.613628</td>\n",
       "    </tr>\n",
       "    <tr>\n",
       "      <th>2</th>\n",
       "      <td>depth</td>\n",
       "      <td>6.864703</td>\n",
       "    </tr>\n",
       "    <tr>\n",
       "      <th>3</th>\n",
       "      <td>table</td>\n",
       "      <td>1.128666</td>\n",
       "    </tr>\n",
       "    <tr>\n",
       "      <th>4</th>\n",
       "      <td>x</td>\n",
       "      <td>499.195394</td>\n",
       "    </tr>\n",
       "    <tr>\n",
       "      <th>5</th>\n",
       "      <td>y</td>\n",
       "      <td>481.971280</td>\n",
       "    </tr>\n",
       "    <tr>\n",
       "      <th>6</th>\n",
       "      <td>z</td>\n",
       "      <td>527.251580</td>\n",
       "    </tr>\n",
       "    <tr>\n",
       "      <th>7</th>\n",
       "      <td>price1</td>\n",
       "      <td>14.276076</td>\n",
       "    </tr>\n",
       "  </tbody>\n",
       "</table>\n",
       "</div>"
      ],
      "text/plain": [
       "  Variable           VIF\n",
       "0    const  24773.807717\n",
       "1    carat     43.613628\n",
       "2    depth      6.864703\n",
       "3    table      1.128666\n",
       "4        x    499.195394\n",
       "5        y    481.971280\n",
       "6        z    527.251580\n",
       "7   price1     14.276076"
      ]
     },
     "execution_count": 32,
     "metadata": {},
     "output_type": "execute_result"
    }
   ],
   "source": [
    "# Print the VIF values\n",
    "vif"
   ]
  },
  {
   "cell_type": "markdown",
   "id": "937abfac",
   "metadata": {},
   "source": [
    "### Reducing three variables x, y, z to a single variable"
   ]
  },
  {
   "cell_type": "code",
   "execution_count": 33,
   "id": "e78bb57a",
   "metadata": {
    "scrolled": true
   },
   "outputs": [
    {
     "data": {
      "text/html": [
       "<div>\n",
       "<style scoped>\n",
       "    .dataframe tbody tr th:only-of-type {\n",
       "        vertical-align: middle;\n",
       "    }\n",
       "\n",
       "    .dataframe tbody tr th {\n",
       "        vertical-align: top;\n",
       "    }\n",
       "\n",
       "    .dataframe thead th {\n",
       "        text-align: right;\n",
       "    }\n",
       "</style>\n",
       "<table border=\"1\" class=\"dataframe\">\n",
       "  <thead>\n",
       "    <tr style=\"text-align: right;\">\n",
       "      <th></th>\n",
       "      <th>carat</th>\n",
       "      <th>cut</th>\n",
       "      <th>color</th>\n",
       "      <th>clarity</th>\n",
       "      <th>depth</th>\n",
       "      <th>table</th>\n",
       "      <th>price1</th>\n",
       "      <th>volume</th>\n",
       "    </tr>\n",
       "  </thead>\n",
       "  <tbody>\n",
       "    <tr>\n",
       "      <th>0</th>\n",
       "      <td>0.23</td>\n",
       "      <td>Ideal</td>\n",
       "      <td>E</td>\n",
       "      <td>SI2</td>\n",
       "      <td>61.5</td>\n",
       "      <td>55.0</td>\n",
       "      <td>5.786897</td>\n",
       "      <td>38.202030</td>\n",
       "    </tr>\n",
       "    <tr>\n",
       "      <th>1</th>\n",
       "      <td>0.21</td>\n",
       "      <td>Premium</td>\n",
       "      <td>E</td>\n",
       "      <td>SI1</td>\n",
       "      <td>59.8</td>\n",
       "      <td>61.0</td>\n",
       "      <td>5.786897</td>\n",
       "      <td>34.505856</td>\n",
       "    </tr>\n",
       "    <tr>\n",
       "      <th>3</th>\n",
       "      <td>0.29</td>\n",
       "      <td>Premium</td>\n",
       "      <td>I</td>\n",
       "      <td>VS2</td>\n",
       "      <td>62.4</td>\n",
       "      <td>58.0</td>\n",
       "      <td>5.811141</td>\n",
       "      <td>46.724580</td>\n",
       "    </tr>\n",
       "    <tr>\n",
       "      <th>4</th>\n",
       "      <td>0.31</td>\n",
       "      <td>Good</td>\n",
       "      <td>J</td>\n",
       "      <td>SI2</td>\n",
       "      <td>63.3</td>\n",
       "      <td>58.0</td>\n",
       "      <td>5.814131</td>\n",
       "      <td>51.917250</td>\n",
       "    </tr>\n",
       "    <tr>\n",
       "      <th>5</th>\n",
       "      <td>0.24</td>\n",
       "      <td>Very Good</td>\n",
       "      <td>J</td>\n",
       "      <td>VVS2</td>\n",
       "      <td>62.8</td>\n",
       "      <td>57.0</td>\n",
       "      <td>5.817111</td>\n",
       "      <td>38.693952</td>\n",
       "    </tr>\n",
       "  </tbody>\n",
       "</table>\n",
       "</div>"
      ],
      "text/plain": [
       "   carat        cut color clarity  depth  table    price1     volume\n",
       "0   0.23      Ideal     E     SI2   61.5   55.0  5.786897  38.202030\n",
       "1   0.21    Premium     E     SI1   59.8   61.0  5.786897  34.505856\n",
       "3   0.29    Premium     I     VS2   62.4   58.0  5.811141  46.724580\n",
       "4   0.31       Good     J     SI2   63.3   58.0  5.814131  51.917250\n",
       "5   0.24  Very Good     J    VVS2   62.8   57.0  5.817111  38.693952"
      ]
     },
     "execution_count": 33,
     "metadata": {},
     "output_type": "execute_result"
    }
   ],
   "source": [
    "#Reducing three variables x, y, z to a single variable\n",
    "df['volume']= df['x']*df['y']*df[\"z\"] \n",
    "\n",
    "#now we can drop x,y,z columns\n",
    "df=df.drop(['x','y','z'], axis=1)\n",
    "\n",
    "#Visualizing the data frame to see the change\n",
    "df.head()"
   ]
  },
  {
   "cell_type": "markdown",
   "id": "a7453473",
   "metadata": {},
   "source": [
    "#### calculating the vif to see how multicolinerity has changed"
   ]
  },
  {
   "cell_type": "code",
   "execution_count": 34,
   "id": "5a11c63f",
   "metadata": {},
   "outputs": [],
   "source": [
    "import statsmodels.api as sm\n",
    "from statsmodels.stats.outliers_influence import variance_inflation_factor\n",
    "\n",
    "# Select numerical columns from your dataset\n",
    "numerical_columns = df.select_dtypes(include=['float64', 'int64'])\n",
    "\n",
    "# Add a constant term to the numerical columns\n",
    "X_with_constant = sm.add_constant(numerical_columns)\n",
    "\n",
    "# Calculate VIF for each numerical feature\n",
    "vif_1 = pd.DataFrame()\n",
    "vif_1[\"Variable\"] = X_with_constant.columns\n",
    "vif_1[\"VIF\"] = [variance_inflation_factor(X_with_constant.values, i) for i in range(X_with_constant.shape[1])]\n",
    "\n"
   ]
  },
  {
   "cell_type": "code",
   "execution_count": 35,
   "id": "a0fb8030",
   "metadata": {},
   "outputs": [
    {
     "data": {
      "text/html": [
       "<div>\n",
       "<style scoped>\n",
       "    .dataframe tbody tr th:only-of-type {\n",
       "        vertical-align: middle;\n",
       "    }\n",
       "\n",
       "    .dataframe tbody tr th {\n",
       "        vertical-align: top;\n",
       "    }\n",
       "\n",
       "    .dataframe thead th {\n",
       "        text-align: right;\n",
       "    }\n",
       "</style>\n",
       "<table border=\"1\" class=\"dataframe\">\n",
       "  <thead>\n",
       "    <tr style=\"text-align: right;\">\n",
       "      <th></th>\n",
       "      <th>Variable</th>\n",
       "      <th>VIF</th>\n",
       "    </tr>\n",
       "  </thead>\n",
       "  <tbody>\n",
       "    <tr>\n",
       "      <th>0</th>\n",
       "      <td>const</td>\n",
       "      <td>7299.103016</td>\n",
       "    </tr>\n",
       "    <tr>\n",
       "      <th>1</th>\n",
       "      <td>carat</td>\n",
       "      <td>663.456470</td>\n",
       "    </tr>\n",
       "    <tr>\n",
       "      <th>2</th>\n",
       "      <td>depth</td>\n",
       "      <td>1.325092</td>\n",
       "    </tr>\n",
       "    <tr>\n",
       "      <th>3</th>\n",
       "      <td>table</td>\n",
       "      <td>1.316834</td>\n",
       "    </tr>\n",
       "    <tr>\n",
       "      <th>4</th>\n",
       "      <td>price1</td>\n",
       "      <td>8.353532</td>\n",
       "    </tr>\n",
       "    <tr>\n",
       "      <th>5</th>\n",
       "      <td>volume</td>\n",
       "      <td>659.489253</td>\n",
       "    </tr>\n",
       "  </tbody>\n",
       "</table>\n",
       "</div>"
      ],
      "text/plain": [
       "  Variable          VIF\n",
       "0    const  7299.103016\n",
       "1    carat   663.456470\n",
       "2    depth     1.325092\n",
       "3    table     1.316834\n",
       "4   price1     8.353532\n",
       "5   volume   659.489253"
      ]
     },
     "execution_count": 35,
     "metadata": {},
     "output_type": "execute_result"
    }
   ],
   "source": [
    "vif_1"
   ]
  },
  {
   "cell_type": "code",
   "execution_count": 36,
   "id": "1a0044e7",
   "metadata": {
    "scrolled": true
   },
   "outputs": [
    {
     "data": {
      "text/plain": [
       "<AxesSubplot:>"
      ]
     },
     "execution_count": 36,
     "metadata": {},
     "output_type": "execute_result"
    },
    {
     "data": {
      "image/png": "[encoded data removed]",
      "text/plain": [
       "<Figure size 1500x800 with 2 Axes>"
      ]
     },
     "metadata": {},
     "output_type": "display_data"
    }
   ],
   "source": [
    "#Plot heat map to see the correlation among the variables\n",
    "corr = df.corr()\n",
    "plt.figure(figsize = (15,8)) #To set the figure size\n",
    "sns.heatmap(data=corr, square=True , annot=True, cbar=True)"
   ]
  },
  {
   "cell_type": "markdown",
   "id": "9e7f127b",
   "metadata": {},
   "source": [
    "##### Inference\n",
    "It is observed that the independent variable volume and carat have a strong correlation. So volume column is dropped before regression is implemented."
   ]
  },
  {
   "cell_type": "markdown",
   "id": "becaa68c",
   "metadata": {},
   "source": [
    "#### Droping volume"
   ]
  },
  {
   "cell_type": "code",
   "execution_count": 37,
   "id": "1ebffb93",
   "metadata": {
    "scrolled": true
   },
   "outputs": [],
   "source": [
    "df=df.drop(['volume'], axis=1)"
   ]
  },
  {
   "cell_type": "code",
   "execution_count": 38,
   "id": "c6a6c668",
   "metadata": {},
   "outputs": [
    {
     "data": {
      "text/html": [
       "<div>\n",
       "<style scoped>\n",
       "    .dataframe tbody tr th:only-of-type {\n",
       "        vertical-align: middle;\n",
       "    }\n",
       "\n",
       "    .dataframe tbody tr th {\n",
       "        vertical-align: top;\n",
       "    }\n",
       "\n",
       "    .dataframe thead th {\n",
       "        text-align: right;\n",
       "    }\n",
       "</style>\n",
       "<table border=\"1\" class=\"dataframe\">\n",
       "  <thead>\n",
       "    <tr style=\"text-align: right;\">\n",
       "      <th></th>\n",
       "      <th>carat</th>\n",
       "      <th>cut</th>\n",
       "      <th>color</th>\n",
       "      <th>clarity</th>\n",
       "      <th>depth</th>\n",
       "      <th>table</th>\n",
       "      <th>price1</th>\n",
       "    </tr>\n",
       "  </thead>\n",
       "  <tbody>\n",
       "    <tr>\n",
       "      <th>0</th>\n",
       "      <td>0.23</td>\n",
       "      <td>Ideal</td>\n",
       "      <td>E</td>\n",
       "      <td>SI2</td>\n",
       "      <td>61.5</td>\n",
       "      <td>55.0</td>\n",
       "      <td>5.786897</td>\n",
       "    </tr>\n",
       "    <tr>\n",
       "      <th>1</th>\n",
       "      <td>0.21</td>\n",
       "      <td>Premium</td>\n",
       "      <td>E</td>\n",
       "      <td>SI1</td>\n",
       "      <td>59.8</td>\n",
       "      <td>61.0</td>\n",
       "      <td>5.786897</td>\n",
       "    </tr>\n",
       "  </tbody>\n",
       "</table>\n",
       "</div>"
      ],
      "text/plain": [
       "   carat      cut color clarity  depth  table    price1\n",
       "0   0.23    Ideal     E     SI2   61.5   55.0  5.786897\n",
       "1   0.21  Premium     E     SI1   59.8   61.0  5.786897"
      ]
     },
     "execution_count": 38,
     "metadata": {},
     "output_type": "execute_result"
    }
   ],
   "source": [
    "df.head(2) #Visualize the dataframe"
   ]
  },
  {
   "cell_type": "markdown",
   "id": "104fda4f",
   "metadata": {},
   "source": [
    "### Calculating the VIF after dropping the volume"
   ]
  },
  {
   "cell_type": "code",
   "execution_count": 39,
   "id": "2348a8a2",
   "metadata": {},
   "outputs": [],
   "source": [
    "import statsmodels.api as sm\n",
    "from statsmodels.stats.outliers_influence import variance_inflation_factor\n",
    "\n",
    "# Select numerical columns from your dataset\n",
    "numerical_columns = df.select_dtypes(include=['float64', 'int64'])\n",
    "\n",
    "# Add a constant term to the numerical columns\n",
    "X_with_constant = sm.add_constant(numerical_columns)\n",
    "\n",
    "# Calculate VIF for each numerical feature\n",
    "vif_2 = pd.DataFrame()\n",
    "vif_2[\"Variable\"] = X_with_constant.columns\n",
    "vif_2[\"VIF\"] = [variance_inflation_factor(X_with_constant.values, i) for i in range(X_with_constant.shape[1])]\n",
    "\n"
   ]
  },
  {
   "cell_type": "code",
   "execution_count": 40,
   "id": "0c9b4baa",
   "metadata": {},
   "outputs": [
    {
     "data": {
      "text/html": [
       "<div>\n",
       "<style scoped>\n",
       "    .dataframe tbody tr th:only-of-type {\n",
       "        vertical-align: middle;\n",
       "    }\n",
       "\n",
       "    .dataframe tbody tr th {\n",
       "        vertical-align: top;\n",
       "    }\n",
       "\n",
       "    .dataframe thead th {\n",
       "        text-align: right;\n",
       "    }\n",
       "</style>\n",
       "<table border=\"1\" class=\"dataframe\">\n",
       "  <thead>\n",
       "    <tr style=\"text-align: right;\">\n",
       "      <th></th>\n",
       "      <th>Variable</th>\n",
       "      <th>VIF</th>\n",
       "    </tr>\n",
       "  </thead>\n",
       "  <tbody>\n",
       "    <tr>\n",
       "      <th>0</th>\n",
       "      <td>const</td>\n",
       "      <td>5714.577169</td>\n",
       "    </tr>\n",
       "    <tr>\n",
       "      <th>1</th>\n",
       "      <td>carat</td>\n",
       "      <td>8.458750</td>\n",
       "    </tr>\n",
       "    <tr>\n",
       "      <th>2</th>\n",
       "      <td>depth</td>\n",
       "      <td>1.076359</td>\n",
       "    </tr>\n",
       "    <tr>\n",
       "      <th>3</th>\n",
       "      <td>table</td>\n",
       "      <td>1.113426</td>\n",
       "    </tr>\n",
       "    <tr>\n",
       "      <th>4</th>\n",
       "      <td>price1</td>\n",
       "      <td>8.323048</td>\n",
       "    </tr>\n",
       "  </tbody>\n",
       "</table>\n",
       "</div>"
      ],
      "text/plain": [
       "  Variable          VIF\n",
       "0    const  5714.577169\n",
       "1    carat     8.458750\n",
       "2    depth     1.076359\n",
       "3    table     1.113426\n",
       "4   price1     8.323048"
      ]
     },
     "execution_count": 40,
     "metadata": {},
     "output_type": "execute_result"
    }
   ],
   "source": [
    "vif_2"
   ]
  },
  {
   "cell_type": "code",
   "execution_count": 41,
   "id": "347728aa",
   "metadata": {},
   "outputs": [
    {
     "data": {
      "text/html": [
       "<div>\n",
       "<style scoped>\n",
       "    .dataframe tbody tr th:only-of-type {\n",
       "        vertical-align: middle;\n",
       "    }\n",
       "\n",
       "    .dataframe tbody tr th {\n",
       "        vertical-align: top;\n",
       "    }\n",
       "\n",
       "    .dataframe thead th {\n",
       "        text-align: right;\n",
       "    }\n",
       "</style>\n",
       "<table border=\"1\" class=\"dataframe\">\n",
       "  <thead>\n",
       "    <tr style=\"text-align: right;\">\n",
       "      <th></th>\n",
       "      <th>carat</th>\n",
       "      <th>cut</th>\n",
       "      <th>color</th>\n",
       "      <th>clarity</th>\n",
       "      <th>depth</th>\n",
       "      <th>table</th>\n",
       "      <th>price1</th>\n",
       "    </tr>\n",
       "  </thead>\n",
       "  <tbody>\n",
       "    <tr>\n",
       "      <th>0</th>\n",
       "      <td>0.23</td>\n",
       "      <td>Ideal</td>\n",
       "      <td>E</td>\n",
       "      <td>SI2</td>\n",
       "      <td>61.5</td>\n",
       "      <td>55.0</td>\n",
       "      <td>5.786897</td>\n",
       "    </tr>\n",
       "  </tbody>\n",
       "</table>\n",
       "</div>"
      ],
      "text/plain": [
       "   carat    cut color clarity  depth  table    price1\n",
       "0   0.23  Ideal     E     SI2   61.5   55.0  5.786897"
      ]
     },
     "execution_count": 41,
     "metadata": {},
     "output_type": "execute_result"
    }
   ],
   "source": [
    "df.head(1)"
   ]
  },
  {
   "cell_type": "markdown",
   "id": "24e14187",
   "metadata": {},
   "source": [
    "# Data Preprocessing\n"
   ]
  },
  {
   "cell_type": "markdown",
   "id": "d91b2700",
   "metadata": {},
   "source": [
    "### Segregating Numerical and categorical columns "
   ]
  },
  {
   "cell_type": "markdown",
   "id": "5a761d14",
   "metadata": {},
   "source": [
    " #### Data preprocessing involves:\n",
    "Imputation of missing values\n",
    "\n",
    "Imputation of duplicate values\n",
    "\n",
    "Imputation of outliers\n",
    "\n",
    "Transformation of skewed data\n",
    "\n",
    "Scaling the numerical columns\n",
    "\n",
    "Encoding the categorical columns"
   ]
  },
  {
   "cell_type": "code",
   "execution_count": 42,
   "id": "1e47c1b1",
   "metadata": {},
   "outputs": [
    {
     "data": {
      "text/html": [
       "<div>\n",
       "<style scoped>\n",
       "    .dataframe tbody tr th:only-of-type {\n",
       "        vertical-align: middle;\n",
       "    }\n",
       "\n",
       "    .dataframe tbody tr th {\n",
       "        vertical-align: top;\n",
       "    }\n",
       "\n",
       "    .dataframe thead th {\n",
       "        text-align: right;\n",
       "    }\n",
       "</style>\n",
       "<table border=\"1\" class=\"dataframe\">\n",
       "  <thead>\n",
       "    <tr style=\"text-align: right;\">\n",
       "      <th></th>\n",
       "      <th>carat</th>\n",
       "      <th>cut</th>\n",
       "      <th>color</th>\n",
       "      <th>clarity</th>\n",
       "      <th>depth</th>\n",
       "      <th>table</th>\n",
       "    </tr>\n",
       "  </thead>\n",
       "  <tbody>\n",
       "    <tr>\n",
       "      <th>0</th>\n",
       "      <td>0.23</td>\n",
       "      <td>Ideal</td>\n",
       "      <td>E</td>\n",
       "      <td>SI2</td>\n",
       "      <td>61.5</td>\n",
       "      <td>55.0</td>\n",
       "    </tr>\n",
       "    <tr>\n",
       "      <th>1</th>\n",
       "      <td>0.21</td>\n",
       "      <td>Premium</td>\n",
       "      <td>E</td>\n",
       "      <td>SI1</td>\n",
       "      <td>59.8</td>\n",
       "      <td>61.0</td>\n",
       "    </tr>\n",
       "    <tr>\n",
       "      <th>3</th>\n",
       "      <td>0.29</td>\n",
       "      <td>Premium</td>\n",
       "      <td>I</td>\n",
       "      <td>VS2</td>\n",
       "      <td>62.4</td>\n",
       "      <td>58.0</td>\n",
       "    </tr>\n",
       "    <tr>\n",
       "      <th>4</th>\n",
       "      <td>0.31</td>\n",
       "      <td>Good</td>\n",
       "      <td>J</td>\n",
       "      <td>SI2</td>\n",
       "      <td>63.3</td>\n",
       "      <td>58.0</td>\n",
       "    </tr>\n",
       "    <tr>\n",
       "      <th>5</th>\n",
       "      <td>0.24</td>\n",
       "      <td>Very Good</td>\n",
       "      <td>J</td>\n",
       "      <td>VVS2</td>\n",
       "      <td>62.8</td>\n",
       "      <td>57.0</td>\n",
       "    </tr>\n",
       "    <tr>\n",
       "      <th>...</th>\n",
       "      <td>...</td>\n",
       "      <td>...</td>\n",
       "      <td>...</td>\n",
       "      <td>...</td>\n",
       "      <td>...</td>\n",
       "      <td>...</td>\n",
       "    </tr>\n",
       "    <tr>\n",
       "      <th>53935</th>\n",
       "      <td>0.72</td>\n",
       "      <td>Ideal</td>\n",
       "      <td>D</td>\n",
       "      <td>SI1</td>\n",
       "      <td>60.8</td>\n",
       "      <td>57.0</td>\n",
       "    </tr>\n",
       "    <tr>\n",
       "      <th>53936</th>\n",
       "      <td>0.72</td>\n",
       "      <td>Good</td>\n",
       "      <td>D</td>\n",
       "      <td>SI1</td>\n",
       "      <td>63.1</td>\n",
       "      <td>55.0</td>\n",
       "    </tr>\n",
       "    <tr>\n",
       "      <th>53937</th>\n",
       "      <td>0.70</td>\n",
       "      <td>Very Good</td>\n",
       "      <td>D</td>\n",
       "      <td>SI1</td>\n",
       "      <td>62.8</td>\n",
       "      <td>60.0</td>\n",
       "    </tr>\n",
       "    <tr>\n",
       "      <th>53938</th>\n",
       "      <td>0.86</td>\n",
       "      <td>Premium</td>\n",
       "      <td>H</td>\n",
       "      <td>SI2</td>\n",
       "      <td>61.0</td>\n",
       "      <td>58.0</td>\n",
       "    </tr>\n",
       "    <tr>\n",
       "      <th>53939</th>\n",
       "      <td>0.75</td>\n",
       "      <td>Ideal</td>\n",
       "      <td>D</td>\n",
       "      <td>SI2</td>\n",
       "      <td>62.2</td>\n",
       "      <td>55.0</td>\n",
       "    </tr>\n",
       "  </tbody>\n",
       "</table>\n",
       "<p>47412 rows × 6 columns</p>\n",
       "</div>"
      ],
      "text/plain": [
       "       carat        cut color clarity  depth  table\n",
       "0       0.23      Ideal     E     SI2   61.5   55.0\n",
       "1       0.21    Premium     E     SI1   59.8   61.0\n",
       "3       0.29    Premium     I     VS2   62.4   58.0\n",
       "4       0.31       Good     J     SI2   63.3   58.0\n",
       "5       0.24  Very Good     J    VVS2   62.8   57.0\n",
       "...      ...        ...   ...     ...    ...    ...\n",
       "53935   0.72      Ideal     D     SI1   60.8   57.0\n",
       "53936   0.72       Good     D     SI1   63.1   55.0\n",
       "53937   0.70  Very Good     D     SI1   62.8   60.0\n",
       "53938   0.86    Premium     H     SI2   61.0   58.0\n",
       "53939   0.75      Ideal     D     SI2   62.2   55.0\n",
       "\n",
       "[47412 rows x 6 columns]"
      ]
     },
     "execution_count": 42,
     "metadata": {},
     "output_type": "execute_result"
    }
   ],
   "source": [
    "Selected=['carat','cut', 'color', 'clarity','depth','table']\n",
    "\n",
    "# # Selecting final columns\n",
    "df_Selected=df[Selected]\n",
    "df_Selected"
   ]
  },
  {
   "cell_type": "code",
   "execution_count": 43,
   "id": "fb05800c",
   "metadata": {
    "scrolled": true
   },
   "outputs": [
    {
     "name": "stdout",
     "output_type": "stream",
     "text": [
      "categorical columns are :\n",
      "Index(['cut', 'color', 'clarity'], dtype='object')\n",
      "Numerical columns are :\n",
      "Index(['carat', 'depth', 'table'], dtype='object')\n"
     ]
    }
   ],
   "source": [
    "#Segregating Numerical and categorical columns\n",
    "\n",
    "#segregating the categorical columns\n",
    "categorical_cols=df_Selected.select_dtypes(include=['object', 'category'])\n",
    "print(\"categorical columns are :\")\n",
    "print(categorical_cols.columns)\n",
    "\n",
    "#segregating the numerical columns\n",
    "numerical_cols=df_Selected.select_dtypes(include='number')\n",
    "print(\"Numerical columns are :\")\n",
    "print(numerical_cols.columns)"
   ]
  },
  {
   "cell_type": "markdown",
   "id": "e1bd35c6",
   "metadata": {},
   "source": [
    "### Scaling the Numerical Columns "
   ]
  },
  {
   "cell_type": "markdown",
   "id": "3c18b683",
   "metadata": {},
   "source": [
    "### Min-Max Scaling (Normalization):\n"
   ]
  },
  {
   "cell_type": "code",
   "execution_count": 44,
   "id": "0bb2d4dc",
   "metadata": {
    "scrolled": true
   },
   "outputs": [
    {
     "name": "stdout",
     "output_type": "stream",
     "text": [
      "Numerical columns are :\n",
      "Index(['carat', 'depth', 'table'], dtype='object')\n"
     ]
    },
    {
     "data": {
      "text/html": [
       "<div>\n",
       "<style scoped>\n",
       "    .dataframe tbody tr th:only-of-type {\n",
       "        vertical-align: middle;\n",
       "    }\n",
       "\n",
       "    .dataframe tbody tr th {\n",
       "        vertical-align: top;\n",
       "    }\n",
       "\n",
       "    .dataframe thead th {\n",
       "        text-align: right;\n",
       "    }\n",
       "</style>\n",
       "<table border=\"1\" class=\"dataframe\">\n",
       "  <thead>\n",
       "    <tr style=\"text-align: right;\">\n",
       "      <th></th>\n",
       "      <th>carat</th>\n",
       "      <th>depth</th>\n",
       "      <th>table</th>\n",
       "    </tr>\n",
       "  </thead>\n",
       "  <tbody>\n",
       "    <tr>\n",
       "      <th>0</th>\n",
       "      <td>0.016667</td>\n",
       "      <td>0.457627</td>\n",
       "      <td>0.260870</td>\n",
       "    </tr>\n",
       "    <tr>\n",
       "      <th>1</th>\n",
       "      <td>0.005556</td>\n",
       "      <td>0.169492</td>\n",
       "      <td>0.782609</td>\n",
       "    </tr>\n",
       "    <tr>\n",
       "      <th>2</th>\n",
       "      <td>0.050000</td>\n",
       "      <td>0.610169</td>\n",
       "      <td>0.521739</td>\n",
       "    </tr>\n",
       "    <tr>\n",
       "      <th>3</th>\n",
       "      <td>0.061111</td>\n",
       "      <td>0.762712</td>\n",
       "      <td>0.521739</td>\n",
       "    </tr>\n",
       "    <tr>\n",
       "      <th>4</th>\n",
       "      <td>0.022222</td>\n",
       "      <td>0.677966</td>\n",
       "      <td>0.434783</td>\n",
       "    </tr>\n",
       "  </tbody>\n",
       "</table>\n",
       "</div>"
      ],
      "text/plain": [
       "      carat     depth     table\n",
       "0  0.016667  0.457627  0.260870\n",
       "1  0.005556  0.169492  0.782609\n",
       "2  0.050000  0.610169  0.521739\n",
       "3  0.061111  0.762712  0.521739\n",
       "4  0.022222  0.677966  0.434783"
      ]
     },
     "execution_count": 44,
     "metadata": {},
     "output_type": "execute_result"
    }
   ],
   "source": [
    "#segregating the numerical columns\n",
    "numerical_cols=df_Selected.select_dtypes(include='number')\n",
    "print(\"Numerical columns are :\")\n",
    "print(numerical_cols.columns)\n",
    "\n",
    "#Min max scaling of Numerical columns\n",
    "min_max = MinMaxScaler()\n",
    "df_num= numerical_cols\n",
    "df_scaled = min_max.fit_transform(df_num)\n",
    "df_scaled = pd.DataFrame(df_scaled, columns= min_max.get_feature_names_out())\n",
    "df_scaled.head(5)"
   ]
  },
  {
   "cell_type": "markdown",
   "id": "3e1acdee",
   "metadata": {},
   "source": [
    "# Encoding Categorical columns"
   ]
  },
  {
   "cell_type": "code",
   "execution_count": 45,
   "id": "42b46b5d",
   "metadata": {},
   "outputs": [
    {
     "data": {
      "text/html": [
       "<div>\n",
       "<style scoped>\n",
       "    .dataframe tbody tr th:only-of-type {\n",
       "        vertical-align: middle;\n",
       "    }\n",
       "\n",
       "    .dataframe tbody tr th {\n",
       "        vertical-align: top;\n",
       "    }\n",
       "\n",
       "    .dataframe thead th {\n",
       "        text-align: right;\n",
       "    }\n",
       "</style>\n",
       "<table border=\"1\" class=\"dataframe\">\n",
       "  <thead>\n",
       "    <tr style=\"text-align: right;\">\n",
       "      <th></th>\n",
       "      <th>carat</th>\n",
       "      <th>cut</th>\n",
       "      <th>color</th>\n",
       "      <th>clarity</th>\n",
       "      <th>depth</th>\n",
       "      <th>table</th>\n",
       "      <th>price1</th>\n",
       "    </tr>\n",
       "  </thead>\n",
       "  <tbody>\n",
       "    <tr>\n",
       "      <th>0</th>\n",
       "      <td>0.23</td>\n",
       "      <td>4</td>\n",
       "      <td>5</td>\n",
       "      <td>2</td>\n",
       "      <td>61.5</td>\n",
       "      <td>55.0</td>\n",
       "      <td>5.786897</td>\n",
       "    </tr>\n",
       "    <tr>\n",
       "      <th>1</th>\n",
       "      <td>0.21</td>\n",
       "      <td>3</td>\n",
       "      <td>5</td>\n",
       "      <td>3</td>\n",
       "      <td>59.8</td>\n",
       "      <td>61.0</td>\n",
       "      <td>5.786897</td>\n",
       "    </tr>\n",
       "    <tr>\n",
       "      <th>3</th>\n",
       "      <td>0.29</td>\n",
       "      <td>3</td>\n",
       "      <td>1</td>\n",
       "      <td>4</td>\n",
       "      <td>62.4</td>\n",
       "      <td>58.0</td>\n",
       "      <td>5.811141</td>\n",
       "    </tr>\n",
       "    <tr>\n",
       "      <th>4</th>\n",
       "      <td>0.31</td>\n",
       "      <td>1</td>\n",
       "      <td>0</td>\n",
       "      <td>2</td>\n",
       "      <td>63.3</td>\n",
       "      <td>58.0</td>\n",
       "      <td>5.814131</td>\n",
       "    </tr>\n",
       "    <tr>\n",
       "      <th>5</th>\n",
       "      <td>0.24</td>\n",
       "      <td>2</td>\n",
       "      <td>0</td>\n",
       "      <td>6</td>\n",
       "      <td>62.8</td>\n",
       "      <td>57.0</td>\n",
       "      <td>5.817111</td>\n",
       "    </tr>\n",
       "  </tbody>\n",
       "</table>\n",
       "</div>"
      ],
      "text/plain": [
       "   carat  cut  color  clarity  depth  table    price1\n",
       "0   0.23    4      5        2   61.5   55.0  5.786897\n",
       "1   0.21    3      5        3   59.8   61.0  5.786897\n",
       "3   0.29    3      1        4   62.4   58.0  5.811141\n",
       "4   0.31    1      0        2   63.3   58.0  5.814131\n",
       "5   0.24    2      0        6   62.8   57.0  5.817111"
      ]
     },
     "execution_count": 45,
     "metadata": {},
     "output_type": "execute_result"
    }
   ],
   "source": [
    "df=df.replace({'color' : { 'D' : 6, 'E' : 5, 'F' : 4, 'G' : 3, 'H': 2, 'I':1, 'J':0}})\n",
    "df=df.replace({'cut': {'Ideal':4, 'Premium': 3,'Very Good':2, 'Good':1,'Fair':0}})\n",
    "df=df.replace({'clarity': {\"IF\": 8, 'VVS1' :7, 'VVS2': 6, 'VS1': 5, 'VS2': 4, 'SI1':3, 'SI2': 2, 'I1':1, 'I2':0, 'I3':0}})\n",
    "#Visualize the data frame\n",
    "df.head(5)"
   ]
  },
  {
   "cell_type": "markdown",
   "id": "2f47ac16",
   "metadata": {},
   "source": [
    "### Selecting final predictors for Machine Learning\n",
    "Based on the above tests, selecting the final columns for machine learning"
   ]
  },
  {
   "cell_type": "code",
   "execution_count": 46,
   "id": "77195c1f",
   "metadata": {
    "scrolled": true
   },
   "outputs": [
    {
     "data": {
      "text/html": [
       "<div>\n",
       "<style scoped>\n",
       "    .dataframe tbody tr th:only-of-type {\n",
       "        vertical-align: middle;\n",
       "    }\n",
       "\n",
       "    .dataframe tbody tr th {\n",
       "        vertical-align: top;\n",
       "    }\n",
       "\n",
       "    .dataframe thead th {\n",
       "        text-align: right;\n",
       "    }\n",
       "</style>\n",
       "<table border=\"1\" class=\"dataframe\">\n",
       "  <thead>\n",
       "    <tr style=\"text-align: right;\">\n",
       "      <th></th>\n",
       "      <th>carat</th>\n",
       "      <th>cut</th>\n",
       "      <th>color</th>\n",
       "      <th>clarity</th>\n",
       "      <th>depth</th>\n",
       "      <th>table</th>\n",
       "    </tr>\n",
       "  </thead>\n",
       "  <tbody>\n",
       "    <tr>\n",
       "      <th>0</th>\n",
       "      <td>0.23</td>\n",
       "      <td>4</td>\n",
       "      <td>5</td>\n",
       "      <td>2</td>\n",
       "      <td>61.5</td>\n",
       "      <td>55.0</td>\n",
       "    </tr>\n",
       "    <tr>\n",
       "      <th>1</th>\n",
       "      <td>0.21</td>\n",
       "      <td>3</td>\n",
       "      <td>5</td>\n",
       "      <td>3</td>\n",
       "      <td>59.8</td>\n",
       "      <td>61.0</td>\n",
       "    </tr>\n",
       "    <tr>\n",
       "      <th>3</th>\n",
       "      <td>0.29</td>\n",
       "      <td>3</td>\n",
       "      <td>1</td>\n",
       "      <td>4</td>\n",
       "      <td>62.4</td>\n",
       "      <td>58.0</td>\n",
       "    </tr>\n",
       "    <tr>\n",
       "      <th>4</th>\n",
       "      <td>0.31</td>\n",
       "      <td>1</td>\n",
       "      <td>0</td>\n",
       "      <td>2</td>\n",
       "      <td>63.3</td>\n",
       "      <td>58.0</td>\n",
       "    </tr>\n",
       "    <tr>\n",
       "      <th>5</th>\n",
       "      <td>0.24</td>\n",
       "      <td>2</td>\n",
       "      <td>0</td>\n",
       "      <td>6</td>\n",
       "      <td>62.8</td>\n",
       "      <td>57.0</td>\n",
       "    </tr>\n",
       "    <tr>\n",
       "      <th>...</th>\n",
       "      <td>...</td>\n",
       "      <td>...</td>\n",
       "      <td>...</td>\n",
       "      <td>...</td>\n",
       "      <td>...</td>\n",
       "      <td>...</td>\n",
       "    </tr>\n",
       "    <tr>\n",
       "      <th>53935</th>\n",
       "      <td>0.72</td>\n",
       "      <td>4</td>\n",
       "      <td>6</td>\n",
       "      <td>3</td>\n",
       "      <td>60.8</td>\n",
       "      <td>57.0</td>\n",
       "    </tr>\n",
       "    <tr>\n",
       "      <th>53936</th>\n",
       "      <td>0.72</td>\n",
       "      <td>1</td>\n",
       "      <td>6</td>\n",
       "      <td>3</td>\n",
       "      <td>63.1</td>\n",
       "      <td>55.0</td>\n",
       "    </tr>\n",
       "    <tr>\n",
       "      <th>53937</th>\n",
       "      <td>0.70</td>\n",
       "      <td>2</td>\n",
       "      <td>6</td>\n",
       "      <td>3</td>\n",
       "      <td>62.8</td>\n",
       "      <td>60.0</td>\n",
       "    </tr>\n",
       "    <tr>\n",
       "      <th>53938</th>\n",
       "      <td>0.86</td>\n",
       "      <td>3</td>\n",
       "      <td>2</td>\n",
       "      <td>2</td>\n",
       "      <td>61.0</td>\n",
       "      <td>58.0</td>\n",
       "    </tr>\n",
       "    <tr>\n",
       "      <th>53939</th>\n",
       "      <td>0.75</td>\n",
       "      <td>4</td>\n",
       "      <td>6</td>\n",
       "      <td>2</td>\n",
       "      <td>62.2</td>\n",
       "      <td>55.0</td>\n",
       "    </tr>\n",
       "  </tbody>\n",
       "</table>\n",
       "<p>47412 rows × 6 columns</p>\n",
       "</div>"
      ],
      "text/plain": [
       "       carat  cut  color  clarity  depth  table\n",
       "0       0.23    4      5        2   61.5   55.0\n",
       "1       0.21    3      5        3   59.8   61.0\n",
       "3       0.29    3      1        4   62.4   58.0\n",
       "4       0.31    1      0        2   63.3   58.0\n",
       "5       0.24    2      0        6   62.8   57.0\n",
       "...      ...  ...    ...      ...    ...    ...\n",
       "53935   0.72    4      6        3   60.8   57.0\n",
       "53936   0.72    1      6        3   63.1   55.0\n",
       "53937   0.70    2      6        3   62.8   60.0\n",
       "53938   0.86    3      2        2   61.0   58.0\n",
       "53939   0.75    4      6        2   62.2   55.0\n",
       "\n",
       "[47412 rows x 6 columns]"
      ]
     },
     "execution_count": 46,
     "metadata": {},
     "output_type": "execute_result"
    }
   ],
   "source": [
    "Selected=['carat','cut', 'color', 'clarity','depth','table']\n",
    "\n",
    "# # Selecting final columns\n",
    "df_Selected=df[Selected]\n",
    "df_Selected"
   ]
  },
  {
   "cell_type": "code",
   "execution_count": 47,
   "id": "a62c176e",
   "metadata": {},
   "outputs": [],
   "source": [
    "import statsmodels.api as sm\n",
    "\n",
    "# Prepare the data\n",
    "X =df_Selected  # Features (independent variables)\n",
    "y = df['price1']  # Target variable (dependent variable)\n",
    "\n",
    "# Add a constant term to the features\n",
    "X = sm.add_constant(X)\n",
    "\n",
    "# Create and fit the model\n",
    "model = sm.OLS(y, X)\n",
    "results = model.fit()\n"
   ]
  },
  {
   "cell_type": "code",
   "execution_count": 48,
   "id": "b7ff9008",
   "metadata": {
    "scrolled": true
   },
   "outputs": [
    {
     "data": {
      "text/html": [
       "<table class=\"simpletable\">\n",
       "<caption>OLS Regression Results</caption>\n",
       "<tr>\n",
       "  <th>Dep. Variable:</th>         <td>price1</td>      <th>  R-squared:         </th> <td>   0.923</td> \n",
       "</tr>\n",
       "<tr>\n",
       "  <th>Model:</th>                   <td>OLS</td>       <th>  Adj. R-squared:    </th> <td>   0.923</td> \n",
       "</tr>\n",
       "<tr>\n",
       "  <th>Method:</th>             <td>Least Squares</td>  <th>  F-statistic:       </th> <td>9.449e+04</td>\n",
       "</tr>\n",
       "<tr>\n",
       "  <th>Date:</th>             <td>Sun, 27 Aug 2023</td> <th>  Prob (F-statistic):</th>  <td>  0.00</td>  \n",
       "</tr>\n",
       "<tr>\n",
       "  <th>Time:</th>                 <td>14:13:34</td>     <th>  Log-Likelihood:    </th> <td> -2899.9</td> \n",
       "</tr>\n",
       "<tr>\n",
       "  <th>No. Observations:</th>      <td> 47412</td>      <th>  AIC:               </th> <td>   5814.</td> \n",
       "</tr>\n",
       "<tr>\n",
       "  <th>Df Residuals:</th>          <td> 47405</td>      <th>  BIC:               </th> <td>   5875.</td> \n",
       "</tr>\n",
       "<tr>\n",
       "  <th>Df Model:</th>              <td>     6</td>      <th>                     </th>     <td> </td>    \n",
       "</tr>\n",
       "<tr>\n",
       "  <th>Covariance Type:</th>      <td>nonrobust</td>    <th>                     </th>     <td> </td>    \n",
       "</tr>\n",
       "</table>\n",
       "<table class=\"simpletable\">\n",
       "<tr>\n",
       "     <td></td>        <th>coef</th>     <th>std err</th>      <th>t</th>      <th>P>|t|</th>  <th>[0.025</th>    <th>0.975]</th>  \n",
       "</tr>\n",
       "<tr>\n",
       "  <th>const</th>   <td>    5.0477</td> <td>    0.102</td> <td>   49.726</td> <td> 0.000</td> <td>    4.849</td> <td>    5.247</td>\n",
       "</tr>\n",
       "<tr>\n",
       "  <th>carat</th>   <td>    2.6095</td> <td>    0.004</td> <td>  722.143</td> <td> 0.000</td> <td>    2.602</td> <td>    2.617</td>\n",
       "</tr>\n",
       "<tr>\n",
       "  <th>cut</th>     <td>    0.0228</td> <td>    0.001</td> <td>   16.232</td> <td> 0.000</td> <td>    0.020</td> <td>    0.026</td>\n",
       "</tr>\n",
       "<tr>\n",
       "  <th>color</th>   <td>    0.0890</td> <td>    0.001</td> <td>  120.689</td> <td> 0.000</td> <td>    0.088</td> <td>    0.090</td>\n",
       "</tr>\n",
       "<tr>\n",
       "  <th>clarity</th> <td>    0.0989</td> <td>    0.001</td> <td>  125.185</td> <td> 0.000</td> <td>    0.097</td> <td>    0.100</td>\n",
       "</tr>\n",
       "<tr>\n",
       "  <th>depth</th>   <td>   -0.0004</td> <td>    0.001</td> <td>   -0.320</td> <td> 0.749</td> <td>   -0.003</td> <td>    0.002</td>\n",
       "</tr>\n",
       "<tr>\n",
       "  <th>table</th>   <td>   -0.0003</td> <td>    0.001</td> <td>   -0.482</td> <td> 0.630</td> <td>   -0.002</td> <td>    0.001</td>\n",
       "</tr>\n",
       "</table>\n",
       "<table class=\"simpletable\">\n",
       "<tr>\n",
       "  <th>Omnibus:</th>       <td>5743.366</td> <th>  Durbin-Watson:     </th> <td>   0.944</td>\n",
       "</tr>\n",
       "<tr>\n",
       "  <th>Prob(Omnibus):</th>  <td> 0.000</td>  <th>  Jarque-Bera (JB):  </th> <td>9753.618</td>\n",
       "</tr>\n",
       "<tr>\n",
       "  <th>Skew:</th>           <td>-0.831</td>  <th>  Prob(JB):          </th> <td>    0.00</td>\n",
       "</tr>\n",
       "<tr>\n",
       "  <th>Kurtosis:</th>       <td> 4.474</td>  <th>  Cond. No.          </th> <td>7.26e+03</td>\n",
       "</tr>\n",
       "</table><br/><br/>Notes:<br/>[1] Standard Errors assume that the covariance matrix of the errors is correctly specified.<br/>[2] The condition number is large, 7.26e+03. This might indicate that there are<br/>strong multicollinearity or other numerical problems."
      ],
      "text/plain": [
       "<class 'statsmodels.iolib.summary.Summary'>\n",
       "\"\"\"\n",
       "                            OLS Regression Results                            \n",
       "==============================================================================\n",
       "Dep. Variable:                 price1   R-squared:                       0.923\n",
       "Model:                            OLS   Adj. R-squared:                  0.923\n",
       "Method:                 Least Squares   F-statistic:                 9.449e+04\n",
       "Date:                Sun, 27 Aug 2023   Prob (F-statistic):               0.00\n",
       "Time:                        14:13:34   Log-Likelihood:                -2899.9\n",
       "No. Observations:               47412   AIC:                             5814.\n",
       "Df Residuals:                   47405   BIC:                             5875.\n",
       "Df Model:                           6                                         \n",
       "Covariance Type:            nonrobust                                         \n",
       "==============================================================================\n",
       "                 coef    std err          t      P>|t|      [0.025      0.975]\n",
       "------------------------------------------------------------------------------\n",
       "const          5.0477      0.102     49.726      0.000       4.849       5.247\n",
       "carat          2.6095      0.004    722.143      0.000       2.602       2.617\n",
       "cut            0.0228      0.001     16.232      0.000       0.020       0.026\n",
       "color          0.0890      0.001    120.689      0.000       0.088       0.090\n",
       "clarity        0.0989      0.001    125.185      0.000       0.097       0.100\n",
       "depth         -0.0004      0.001     -0.320      0.749      -0.003       0.002\n",
       "table         -0.0003      0.001     -0.482      0.630      -0.002       0.001\n",
       "==============================================================================\n",
       "Omnibus:                     5743.366   Durbin-Watson:                   0.944\n",
       "Prob(Omnibus):                  0.000   Jarque-Bera (JB):             9753.618\n",
       "Skew:                          -0.831   Prob(JB):                         0.00\n",
       "Kurtosis:                       4.474   Cond. No.                     7.26e+03\n",
       "==============================================================================\n",
       "\n",
       "Notes:\n",
       "[1] Standard Errors assume that the covariance matrix of the errors is correctly specified.\n",
       "[2] The condition number is large, 7.26e+03. This might indicate that there are\n",
       "strong multicollinearity or other numerical problems.\n",
       "\"\"\""
      ]
     },
     "execution_count": 48,
     "metadata": {},
     "output_type": "execute_result"
    }
   ],
   "source": [
    "results.summary()"
   ]
  },
  {
   "cell_type": "code",
   "execution_count": null,
   "id": "da36ec5a",
   "metadata": {},
   "outputs": [],
   "source": []
  },
  {
   "cell_type": "markdown",
   "id": "f03b2e82",
   "metadata": {},
   "source": [
    "# Predictive Modeling"
   ]
  },
  {
   "cell_type": "markdown",
   "id": "aafee617",
   "metadata": {},
   "source": [
    "# Model- 1 : Linear Regression "
   ]
  },
  {
   "cell_type": "code",
   "execution_count": 51,
   "id": "c889cd3f",
   "metadata": {},
   "outputs": [
    {
     "name": "stdout",
     "output_type": "stream",
     "text": [
      "Shape of X_train_selected : (33188, 6)\n",
      "Shape of y_train_selected : (33188,)\n",
      "Shape of X_test_selected : (14224, 6)\n",
      "Shape of y_test_selected : (14224,)\n",
      "Number of Features are : 6\n"
     ]
    }
   ],
   "source": [
    "Selected=['carat','cut', 'color', 'clarity']\n",
    "\n",
    "# # Selecting final columns\n",
    "df_Selected=df[Selected]\n",
    "df_Selected\n",
    "X_train, X_test, y_train, y_test = train_test_split(X, y, test_size=0.3, random_state=2)\n",
    "print('Shape of X_train_selected :',X_train.shape)\n",
    "print('Shape of y_train_selected :',y_train.shape)\n",
    "print('Shape of X_test_selected :',X_test.shape)\n",
    "print('Shape of y_test_selected :',y_test.shape)\n",
    "print('Number of Features are :',len(X_train.columns))"
   ]
  },
  {
   "cell_type": "markdown",
   "id": "207866f7",
   "metadata": {},
   "source": [
    "## Selecting Features and Label"
   ]
  },
  {
   "cell_type": "code",
   "execution_count": 52,
   "id": "caaea108",
   "metadata": {},
   "outputs": [],
   "source": [
    "X = df_Selected\n",
    "y  = df['price1']"
   ]
  },
  {
   "cell_type": "markdown",
   "id": "700d54ef",
   "metadata": {},
   "source": [
    "### Splitting the dataset into Training and test Dataset "
   ]
  },
  {
   "cell_type": "code",
   "execution_count": 53,
   "id": "47fce49f",
   "metadata": {},
   "outputs": [
    {
     "name": "stdout",
     "output_type": "stream",
     "text": [
      "Shape of X_train: (33188, 4)\n",
      "Shape of y_train: (33188,)\n",
      "Shape of X_test: (14224, 4)\n",
      "Shape of y_test : (14224,)\n",
      "Number of Features are : 4\n"
     ]
    }
   ],
   "source": [
    "X_train, X_test, y_train, y_test = train_test_split(X, y, test_size=0.3, random_state=2)\n",
    "print('Shape of X_train:',X_train.shape)\n",
    "print('Shape of y_train:',y_train.shape)\n",
    "print('Shape of X_test:',X_test.shape)\n",
    "print('Shape of y_test :',y_test.shape)\n",
    "print('Number of Features are :',len(X_train.columns))"
   ]
  },
  {
   "cell_type": "markdown",
   "id": "dac16564",
   "metadata": {},
   "source": [
    "## LR Model"
   ]
  },
  {
   "cell_type": "code",
   "execution_count": 76,
   "id": "24e27658",
   "metadata": {},
   "outputs": [
    {
     "name": "stdout",
     "output_type": "stream",
     "text": [
      "MAPE - Train: 2.726938526866061\n",
      "R-squared - Train: 0.9223642313727343\n",
      "Adjusted R-squared - Train: 0.9223548728736682\n",
      "MAPE - Test: 2.687175968241048\n",
      "R-squared - Test: 0.9239370304433374\n",
      "Adjusted R-squared - Test: 0.9239156328852653\n"
     ]
    }
   ],
   "source": [
    "from sklearn.metrics import mean_absolute_percentage_error, r2_score\n",
    "# Create a linear regression model\n",
    "linear_regression = LinearRegression()\n",
    "# Fit the model on the training data\n",
    "linear_regression.fit(X_train, y_train)\n",
    "# Predict on the training and test data\n",
    "y_train_pred = linear_regression.predict(X_train)\n",
    "y_test_pred = linear_regression.predict(X_test)\n",
    "# Calculate MAPE for train and test\n",
    "mape_train = mean_absolute_percentage_error(y_train, y_train_pred)\n",
    "mape_test_lr = mean_absolute_percentage_error(y_test, y_test_pred)\n",
    "# Calculate R-squared for train and test\n",
    "r2_train = r2_score(y_train, y_train_pred)\n",
    "r2_test = r2_score(y_test, y_test_pred)\n",
    "# Calculate adjusted R-squared for train and test\n",
    "n_train = X_train.shape[0]\n",
    "n_test = X_test.shape[0]\n",
    "p = X_train.shape[1]\n",
    "adj_r2_train = 1 - (1 - r2_train) * (n_train - 1) / (n_train - p - 1)\n",
    "adj_r2_test = 1 - (1 - r2_test) * (n_test - 1) / (n_test - p - 1)\n",
    "\n",
    "# Print the results\n",
    "print(\"MAPE - Train:\", mape_train*100)\n",
    "print(\"R-squared - Train:\", r2_train)\n",
    "print(\"Adjusted R-squared - Train:\", adj_r2_train)\n",
    "print(\"MAPE - Test:\", mape_test_lr*100)\n",
    "print(\"R-squared - Test:\", r2_test)\n",
    "print(\"Adjusted R-squared - Test:\", adj_r2_test)"
   ]
  },
  {
   "cell_type": "markdown",
   "id": "ac39f638",
   "metadata": {},
   "source": [
    "### Intercept , Coefficients and equation lR "
   ]
  },
  {
   "cell_type": "code",
   "execution_count": 55,
   "id": "93085de4",
   "metadata": {
    "scrolled": true
   },
   "outputs": [
    {
     "name": "stdout",
     "output_type": "stream",
     "text": [
      "intercept of LR Equation is : 4.99720809974472\n",
      "Coefficients of LR Equation are :\n",
      "[2.60937255 0.02400489 0.08947013 0.09920054]\n"
     ]
    }
   ],
   "source": [
    "b0=linear_regression.intercept_\n",
    "b1=linear_regression.coef_\n",
    "\n",
    "print( 'intercept of LR Equation is :',b0)\n",
    "print('Coefficients of LR Equation are :')\n",
    "print(b1)"
   ]
  },
  {
   "cell_type": "markdown",
   "id": "39f3756f",
   "metadata": {},
   "source": [
    "# Model- 2 : Knn"
   ]
  },
  {
   "cell_type": "code",
   "execution_count": 57,
   "id": "c7d423c3",
   "metadata": {},
   "outputs": [
    {
     "name": "stdout",
     "output_type": "stream",
     "text": [
      "Shape of X_train: (33188, 4)\n",
      "Shape of y_train: (33188,)\n",
      "Shape of X_test: (14224, 4)\n",
      "Shape of y_test : (14224,)\n",
      "Number of Features are : 4\n"
     ]
    }
   ],
   "source": [
    "X = df_Selected\n",
    "y  = df['price1']\n",
    "\n",
    "X_train, X_test, y_train, y_test = train_test_split(X, y, test_size=0.3, random_state=2)\n",
    "print('Shape of X_train:',X_train.shape)\n",
    "print('Shape of y_train:',y_train.shape)\n",
    "print('Shape of X_test:',X_test.shape)\n",
    "print('Shape of y_test :',y_test.shape)\n",
    "print('Number of Features are :',len(X_train.columns))"
   ]
  },
  {
   "cell_type": "markdown",
   "id": "02aaac64",
   "metadata": {},
   "source": [
    "### Best Value of k\n",
    " Best Value of k is 4\n",
    "\n",
    " "
   ]
  },
  {
   "cell_type": "code",
   "execution_count": 80,
   "id": "746a2b26",
   "metadata": {},
   "outputs": [
    {
     "name": "stdout",
     "output_type": "stream",
     "text": [
      "Shape of X_train_selected : (33188, 6)\n",
      "Shape of y_train_selected : (33188,)\n",
      "Shape of X_test_selected : (14224, 6)\n",
      "Shape of y_test_selected : (14224,)\n",
      "Number of Features are : 6\n"
     ]
    }
   ],
   "source": [
    "X = df_Selected\n",
    "y  = df['price1']\n",
    "\n",
    "X_train, X_test, y_train, y_test = train_test_split(X, y, test_size=0.3, random_state=2)\n",
    "print('Shape of X_train_selected :',X_train.shape)\n",
    "print('Shape of y_train_selected :',y_train.shape)\n",
    "print('Shape of X_test_selected :',X_test.shape)\n",
    "print('Shape of y_test_selected :',y_test.shape)\n",
    "print('Number of Features are :',len(X_train.columns))"
   ]
  },
  {
   "cell_type": "code",
   "execution_count": 58,
   "id": "ed1a1d49",
   "metadata": {
    "scrolled": false
   },
   "outputs": [
    {
     "name": "stdout",
     "output_type": "stream",
     "text": [
      "Train R-Square  : 0.9870747676536117\n",
      "Adjusted R2 Train :  0.9870732095989034\n",
      "Train MAPE : 1.0055689688699685\n",
      "Test R-Square   : 0.9817474441551873\n",
      "Test MAPE : 1.179320694617927\n"
     ]
    }
   ],
   "source": [
    "# Create and fit the KNN regression model\n",
    "k =4# Number of neighbors\n",
    "knn_model = KNeighborsRegressor(n_neighbors=k)\n",
    "knn_model.fit(X_train,y_train)\n",
    "\n",
    "# Predicting for Training Dataset\n",
    "train_pred_knn=knn_model.predict(X_train)\n",
    "\n",
    "#Calculating the R-Square for training set\n",
    "train_rsquare_knn=r2_score(y_train,train_pred_knn)\n",
    "print(f'Train R-Square  : {train_rsquare_knn}')\n",
    "\n",
    "# calculating the adjusted r2 for training set\n",
    "#formula: 1-((1-R2)(n-1)/(n-k-1))\n",
    "#where n= No. of samples (no.of datapoints)\n",
    "Adj_r2 = 1 - (1-r2_score(y_train, train_pred_knn)) * (len(y_train)-1)/(len(y_train)-X_train.shape[1]-1)\n",
    "print('Adjusted R2 Train : ',Adj_r2)\n",
    "# Calculating MAPE for train\n",
    "train_mape_knn=np.mean(abs((y_train-train_pred_knn)/y_train))*100\n",
    "print('Train MAPE :', train_mape_knn)\n",
    "#Predicting for Test Set\n",
    "test_pred_knn=knn_model.predict(X_test)\n",
    "#Calculating the R-Square for test set\n",
    "test_rsquare_knn=r2_score(y_test,test_pred_knn)\n",
    "print(f'Test R-Square   : {test_rsquare_knn}')\n",
    "# Calculating for Test Dataset\n",
    "test_mape_knn=np.mean(abs((y_test-test_pred_knn)/y_test))*100\n",
    "print('Test MAPE :', test_mape_knn)"
   ]
  },
  {
   "cell_type": "markdown",
   "id": "e078740f",
   "metadata": {},
   "source": [
    "# Model-3 : Decision Tree "
   ]
  },
  {
   "cell_type": "markdown",
   "id": "4dee7f2c",
   "metadata": {},
   "source": [
    "### Base Line Model "
   ]
  },
  {
   "cell_type": "code",
   "execution_count": 59,
   "id": "0e8d3925",
   "metadata": {},
   "outputs": [],
   "source": [
    "X = df_Selected\n",
    "y  = df['price1']"
   ]
  },
  {
   "cell_type": "code",
   "execution_count": 60,
   "id": "c4854d31",
   "metadata": {},
   "outputs": [
    {
     "name": "stdout",
     "output_type": "stream",
     "text": [
      "Shape of X_train_selected : (33188, 4)\n",
      "Shape of y_train_selected : (33188,)\n",
      "Shape of X_test_selected : (14224, 4)\n",
      "Shape of y_test_selected : (14224,)\n",
      "Number of Features are : 4\n"
     ]
    }
   ],
   "source": [
    "X_train, X_test, y_train, y_test = train_test_split(X, y, test_size=0.3, random_state=2)\n",
    "print('Shape of X_train_selected :',X_train.shape)\n",
    "print('Shape of y_train_selected :',y_train.shape)\n",
    "print('Shape of X_test_selected :',X_test.shape)\n",
    "print('Shape of y_test_selected :',y_test.shape)\n",
    "print('Number of Features are :',len(X_train.columns))"
   ]
  },
  {
   "cell_type": "code",
   "execution_count": 61,
   "id": "7b33d7bb",
   "metadata": {
    "scrolled": true
   },
   "outputs": [],
   "source": [
    "from sklearn.tree import DecisionTreeRegressor\n",
    "from sklearn.metrics import r2_score, mean_absolute_percentage_error\n",
    "\n",
    "# Create a decision tree regressor object\n",
    "dt_regressor = DecisionTreeRegressor()\n",
    "\n",
    "# Define the hyperparameter grid\n",
    "param_grid = {\n",
    "    'criterion': ['mae'],  # Splitting criterion\n",
    "    'max_depth': [None, 5, 10],  # Maximum depth of the tree\n",
    "    'min_samples_split': [2, 5, 10],  # Minimum number of samples required to split an internal node\n",
    "    'min_samples_leaf': [1, 2, 4]  # Minimum number of samples required to be at a leaf node\n",
    "}\n",
    "\n",
    "# Perform grid search cross-validation to find the best hyperparameters\n",
    "grid_search = GridSearchCV(dt_regressor, param_grid, cv=5)\n",
    "#grid_search.fit(X_train, y_train)\n",
    "\n",
    "# Get the best hyperparameters and the corresponding model\n",
    "#best_params = grid_search.best_params_\n",
    "\n",
    "\n",
    "# Print the best hyperparameters\n",
    "#print(\"Best Hyperparameters:\", best_params)"
   ]
  },
  {
   "cell_type": "raw",
   "id": "ae687af9",
   "metadata": {},
   "source": [
    "Best Hyperparameters: {'criterion': 'mae', 'max_depth': None, 'min_samples_leaf': 4, 'min_samples_split': 10}"
   ]
  },
  {
   "cell_type": "code",
   "execution_count": 62,
   "id": "ff1263a6",
   "metadata": {
    "scrolled": true
   },
   "outputs": [
    {
     "name": "stdout",
     "output_type": "stream",
     "text": [
      "Train R-squared: 0.9887237457478254\n",
      "Train Adjusted R-squared: 0.9887223864669584\n",
      "Train MAPE: 0.8539502041612688\n",
      "Test R-squared: 0.985276218528228\n",
      "Test Adjusted R-squared: 0.9852720765262667\n",
      "Test MAPE: 1.0567247353487892\n"
     ]
    }
   ],
   "source": [
    "best_params={'criterion': 'mae', 'max_depth': None, 'min_samples_leaf': 4, 'min_samples_split': 10}\n",
    "best_model = DecisionTreeRegressor(**best_params)\n",
    "# Fit the best model on the training data\n",
    "best_model.fit(X_train, y_train)\n",
    "# Predict on the training and test data\n",
    "y_train_pred = best_model.predict(X_train)\n",
    "y_test_pred = best_model.predict(X_test)\n",
    "# Calculate R-squared for the training and test sets\n",
    "train_r2 = r2_score(y_train, y_train_pred)\n",
    "test_r2 = r2_score(y_test, y_test_pred)\n",
    "# Calculate the number of features\n",
    "num_features = X_train.shape[1]\n",
    "# Calculate adjusted R-squared for the training and test sets\n",
    "train_adj_r2 = 1 - (1 - train_r2) * (len(y_train) - 1) / (len(y_train) - num_features - 1)\n",
    "test_adj_r2 = 1 - (1 - test_r2) * (len(y_test) - 1) / (len(y_test) - num_features - 1)\n",
    "# Calculate MAPE for the training and test sets\n",
    "train_mape = mean_absolute_percentage_error(y_train, y_train_pred)*100\n",
    "test_mape_dt = mean_absolute_percentage_error(y_test, y_test_pred)*100\n",
    "# Print the evaluation metrics\n",
    "print(\"Train R-squared:\", train_r2)\n",
    "print(\"Train Adjusted R-squared:\", train_adj_r2)\n",
    "print(\"Train MAPE:\", train_mape)\n",
    "print(\"Test R-squared:\", test_r2)\n",
    "print(\"Test Adjusted R-squared:\", test_adj_r2)\n",
    "print(\"Test MAPE:\", test_mape_dt)"
   ]
  },
  {
   "cell_type": "markdown",
   "id": "d79eaa39",
   "metadata": {},
   "source": [
    "# Model-4 : Random Forest"
   ]
  },
  {
   "cell_type": "code",
   "execution_count": 70,
   "id": "08b11334",
   "metadata": {},
   "outputs": [
    {
     "name": "stdout",
     "output_type": "stream",
     "text": [
      "Best Hyperparameters: {'max_depth': None, 'min_samples_split': 10, 'n_estimators': 70}\n",
      "Random Forest Train R-squared: 0.9911691091110103\n",
      "Random Forest Train Adjusted R-squared: 0.9911680446031733\n",
      "Random Forest Train MAPE: 0.9058983065882941\n",
      "Random Forest Test R-squared: 0.9881880442296481\n",
      "Random Forest Test Adjusted R-squared: 0.9881847213642511\n",
      "Random Forest Test MAPE: 1.0434412690989474\n"
     ]
    }
   ],
   "source": [
    "# Define the hyperparameter grid for Random Forest\n",
    "param_grid = {\n",
    "    'n_estimators': [50, 70],  # Number of trees in the forest\n",
    "    'max_depth': [None, 10],  # Maximum depth of each tree\n",
    "    'min_samples_split': [5, 10]  # Minimum number of samples required to split an internal node\n",
    "}\n",
    "# Create a Random Forest Regressor object\n",
    "rf_regressor = RandomForestRegressor()\n",
    "\n",
    "\n",
    "grid_search = GridSearchCV(rf_regressor, param_grid)\n",
    "grid_search.fit(X_train, y_train) \n",
    "\n",
    "# Get the best hyperparameters and the corresponding model\n",
    "best_params_rf = grid_search.best_params_\n",
    "best_rf_model = grid_search.best_estimator_\n",
    "\n",
    "# Print the best hyperparameters\n",
    "print(\"Best Hyperparameters:\", best_params_rf)\n",
    "\n",
    "# Fit the best model on the training data\n",
    "best_rf_model.fit(X_train, y_train)\n",
    "\n",
    "# Predict on the training and test data\n",
    "y_train_pred_rf = best_rf_model.predict(X_train)\n",
    "y_test_pred_rf = best_rf_model.predict(X_test)\n",
    "\n",
    "# Calculate R-squared for the training and test sets\n",
    "train_r2_rf = r2_score(y_train, y_train_pred_rf)\n",
    "test_r2_rf = r2_score(y_test, y_test_pred_rf)\n",
    "\n",
    "# Calculate adjusted R-squared for the training and test sets\n",
    "train_adj_r2_rf = 1 - (1 - train_r2_rf) * (len(y_train) - 1) / (len(y_train) - num_features - 1)\n",
    "test_adj_r2_rf = 1 - (1 - test_r2_rf) * (len(y_test) - 1) / (len(y_test) - num_features - 1)\n",
    "\n",
    "# Calculate MAPE for the training and test sets\n",
    "train_mape_rf = mean_absolute_percentage_error(y_train, y_train_pred_rf) * 100\n",
    "test_mape_rf = mean_absolute_percentage_error(y_test, y_test_pred_rf) * 100\n",
    "\n",
    "# Print the evaluation metrics for Random Forest\n",
    "print(\"Random Forest Train R-squared:\", train_r2_rf)\n",
    "print(\"Random Forest Train Adjusted R-squared:\", train_adj_r2_rf)\n",
    "print(\"Random Forest Train MAPE:\", train_mape_rf)\n",
    "\n",
    "print(\"Random Forest Test R-squared:\", test_r2_rf)\n",
    "print(\"Random Forest Test Adjusted R-squared:\", test_adj_r2_rf)\n",
    "print(\"Random Forest Test MAPE:\", test_mape_rf)\n"
   ]
  },
  {
   "cell_type": "markdown",
   "id": "aa7f1301",
   "metadata": {},
   "source": [
    "# Model Peformace"
   ]
  },
  {
   "cell_type": "code",
   "execution_count": 78,
   "id": "d505d5a8",
   "metadata": {},
   "outputs": [
    {
     "data": {
      "text/html": [
       "<div>\n",
       "<style scoped>\n",
       "    .dataframe tbody tr th:only-of-type {\n",
       "        vertical-align: middle;\n",
       "    }\n",
       "\n",
       "    .dataframe tbody tr th {\n",
       "        vertical-align: top;\n",
       "    }\n",
       "\n",
       "    .dataframe thead th {\n",
       "        text-align: right;\n",
       "    }\n",
       "</style>\n",
       "<table border=\"1\" class=\"dataframe\">\n",
       "  <thead>\n",
       "    <tr style=\"text-align: right;\">\n",
       "      <th></th>\n",
       "      <th>Model</th>\n",
       "      <th>Test MAPE</th>\n",
       "    </tr>\n",
       "  </thead>\n",
       "  <tbody>\n",
       "    <tr>\n",
       "      <th>0</th>\n",
       "      <td>Linear Reg</td>\n",
       "      <td>0.026872</td>\n",
       "    </tr>\n",
       "    <tr>\n",
       "      <th>1</th>\n",
       "      <td>Knn</td>\n",
       "      <td>1.179321</td>\n",
       "    </tr>\n",
       "    <tr>\n",
       "      <th>2</th>\n",
       "      <td>DT</td>\n",
       "      <td>1.056725</td>\n",
       "    </tr>\n",
       "    <tr>\n",
       "      <th>3</th>\n",
       "      <td>Random Forest</td>\n",
       "      <td>1.043441</td>\n",
       "    </tr>\n",
       "  </tbody>\n",
       "</table>\n",
       "</div>"
      ],
      "text/plain": [
       "           Model  Test MAPE\n",
       "0     Linear Reg   0.026872\n",
       "1            Knn   1.179321\n",
       "2             DT   1.056725\n",
       "3  Random Forest   1.043441"
      ]
     },
     "execution_count": 78,
     "metadata": {},
     "output_type": "execute_result"
    }
   ],
   "source": [
    "data = {'Model': ['Linear Reg', 'Knn','DT','Random Forest'],\n",
    "       'Test MAPE': [mape_test_lr,test_mape_knn,test_mape_dt,test_mape_rf]\n",
    "        }\n",
    "df_performace=pd.DataFrame(data)\n",
    "df_performace"
   ]
  },
  {
   "cell_type": "markdown",
   "id": "dffc5bbc",
   "metadata": {
    "scrolled": true
   },
   "source": [
    "### Inferences\n",
    "Linear Regression gave best MAPE\n",
    "\n"
   ]
  },
  {
   "cell_type": "code",
   "execution_count": null,
   "id": "5ca9d1f2",
   "metadata": {},
   "outputs": [],
   "source": []
  }
 ],
 "metadata": {
  "kernelspec": {
   "display_name": "Python 3 (ipykernel)",
   "language": "python",
   "name": "python3"
  },
  "language_info": {
   "codemirror_mode": {
    "name": "ipython",
    "version": 3
   },
   "file_extension": ".py",
   "mimetype": "text/x-python",
   "name": "python",
   "nbconvert_exporter": "python",
   "pygments_lexer": "ipython3",
   "version": "3.9.13"
  }
 },
 "nbformat": 4,
 "nbformat_minor": 5
}
